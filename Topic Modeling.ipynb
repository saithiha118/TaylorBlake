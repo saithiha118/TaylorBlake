{
 "cells": [
  {
   "cell_type": "markdown",
   "id": "474bc035",
   "metadata": {},
   "source": [
    "# ADS 509 Assignment 5.1: Topic Modeling\n",
    "\n",
    "This notebook holds Assignment 5.1 for Module 5 in ADS 509, Applied Text Mining. Work through this notebook, writing code and answering questions where required. \n",
    "\n",
    "In this assignment you will work with a categorical corpus that accompanies `nltk`. You will build the three types of topic models described in Chapter 8 of _Blueprints for Text Analytics using Python_: NMF, LSA, and LDA. You will compare these models to the true categories. \n"
   ]
  },
  {
   "cell_type": "markdown",
   "id": "d87e2c06",
   "metadata": {},
   "source": [
    "## General Assignment Instructions\n",
    "\n",
    "These instructions are included in every assignment, to remind you of the coding standards for the class. Feel free to delete this cell after reading it. \n",
    "\n",
    "One sign of mature code is conforming to a style guide. We recommend the [Google Python Style Guide](https://google.github.io/styleguide/pyguide.html). If you use a different style guide, please include a cell with a link. \n",
    "\n",
    "Your code should be relatively easy-to-read, sensibly commented, and clean. Writing code is a messy process, so please be sure to edit your final submission. Remove any cells that are not needed or parts of cells that contain unnecessary code. Remove inessential `import` statements and make sure that all such statements are moved into the designated cell. \n",
    "\n",
    "Make use of non-code cells for written commentary. These cells should be grammatical and clearly written. In some of these cells you will have questions to answer. The questions will be marked by a \"Q:\" and will have a corresponding \"A:\" spot for you. *Make sure to answer every question marked with a `Q:` for full credit.* \n"
   ]
  },
  {
   "cell_type": "code",
   "execution_count": 11,
   "id": "fec07afa",
   "metadata": {},
   "outputs": [
    {
     "name": "stderr",
     "output_type": "stream",
     "text": [
      "C:\\Users\\saith\\anaconda3\\lib\\site-packages\\ipykernel\\ipkernel.py:287: DeprecationWarning: `should_run_async` will not call `transform_cell` automatically in the future. Please pass the result to `transformed_cell` argument and any exception that happen during thetransform in `preprocessing_exc_tuple` in IPython 7.17 and above.\n",
      "  and should_run_async(code)\n",
      "C:\\Users\\saith\\anaconda3\\lib\\site-packages\\scipy\\sparse\\sparsetools.py:21: DeprecationWarning: `scipy.sparse.sparsetools` is deprecated!\n",
      "scipy.sparse.sparsetools is a private module for scipy.sparse, and should not be used.\n",
      "  _deprecated()\n"
     ]
    }
   ],
   "source": [
    "# These libraries may be useful to you\n",
    "\n",
    "from nltk.corpus import brown\n",
    "\n",
    "import numpy as np\n",
    "import pandas as pd\n",
    "from tqdm.auto import tqdm\n",
    "\n",
    "import gensim\n",
    "import gensim.corpora as corpora\n",
    "from gensim.utils import simple_preprocess\n",
    "from gensim.models import CoherenceModel,LdaMulticore, Phrases \n",
    "from gensim.models.phrases import Phraser \n",
    "from gensim.corpora import Dictionary\n",
    "\n",
    "\n",
    "import pyLDAvis\n",
    "import pyLDAvis.sklearn\n",
    "import pyLDAvis.gensim_models\n",
    "\n",
    "import spacy\n",
    "from sklearn.feature_extraction.text import TfidfVectorizer, CountVectorizer\n",
    "from sklearn.decomposition import NMF, TruncatedSVD, LatentDirichletAllocation\n",
    "\n",
    "from spacy.lang.en.stop_words import STOP_WORDS as stopwords\n",
    "\n",
    "from collections import Counter, defaultdict\n",
    "\n",
    "nlp = spacy.load('en_core_web_sm')"
   ]
  },
  {
   "cell_type": "code",
   "execution_count": 1,
   "id": "19594464",
   "metadata": {},
   "outputs": [],
   "source": [
    "# These libraries may be useful to you\n",
    "\n",
    "\n",
    "from nltk.corpus import brown\n",
    "\n",
    "import numpy as np\n",
    "import pandas as pd\n",
    "from tqdm.auto import tqdm\n",
    "\n",
    "#import gensim\n",
    "#import gensim.corpora as corpora\n",
    "#from gensim.utils import simple_preprocess\n",
    "#from gensim.models import CoherenceModel,LdaMulticore, Phrases \n",
    "#from gensim.models.phrases import Phraser \n",
    "#from gensim.corpora import Dictionary\n",
    "\n",
    "\n",
    "import pyLDAvis\n",
    "import pyLDAvis.sklearn\n",
    "import pyLDAvis.gensim_models\n",
    "\n",
    "import spacy\n",
    "from sklearn.feature_extraction.text import TfidfVectorizer, CountVectorizer\n",
    "from sklearn.decomposition import NMF, TruncatedSVD, LatentDirichletAllocation\n",
    "\n",
    "from spacy.lang.en.stop_words import STOP_WORDS as stopwords\n",
    "\n",
    "from collections import Counter, defaultdict\n",
    "\n",
    "nlp = spacy.load('en_core_web_sm')\n"
   ]
  },
  {
   "cell_type": "code",
   "execution_count": 12,
   "id": "a218df60",
   "metadata": {},
   "outputs": [
    {
     "name": "stderr",
     "output_type": "stream",
     "text": [
      "C:\\Users\\saith\\anaconda3\\lib\\site-packages\\ipykernel\\ipkernel.py:287: DeprecationWarning: `should_run_async` will not call `transform_cell` automatically in the future. Please pass the result to `transformed_cell` argument and any exception that happen during thetransform in `preprocessing_exc_tuple` in IPython 7.17 and above.\n",
      "  and should_run_async(code)\n"
     ]
    }
   ],
   "source": [
    "# add any additional libaries you need here\n",
    "import nltk\n"
   ]
  },
  {
   "cell_type": "code",
   "execution_count": 13,
   "id": "494de237",
   "metadata": {},
   "outputs": [
    {
     "name": "stderr",
     "output_type": "stream",
     "text": [
      "C:\\Users\\saith\\anaconda3\\lib\\site-packages\\ipykernel\\ipkernel.py:287: DeprecationWarning: `should_run_async` will not call `transform_cell` automatically in the future. Please pass the result to `transformed_cell` argument and any exception that happen during thetransform in `preprocessing_exc_tuple` in IPython 7.17 and above.\n",
      "  and should_run_async(code)\n"
     ]
    }
   ],
   "source": [
    "# This function comes from the BTAP repo.\n",
    "\n",
    "def display_topics(model, features, no_top_words=5):\n",
    "    for topic, words in enumerate(model.components_):\n",
    "        total = words.sum()\n",
    "        largest = words.argsort()[::-1] # invert sort order\n",
    "        print(\"\\nTopic %02d\" % topic)\n",
    "        for i in range(0, no_top_words):\n",
    "            print(\"  %s (%2.2f)\" % (features[largest[i]], abs(words[largest[i]]*100.0/total)))"
   ]
  },
  {
   "cell_type": "markdown",
   "id": "a30a901c",
   "metadata": {},
   "source": [
    "## Getting to Know the Brown Corpus\n",
    "\n",
    "Let's spend a bit of time getting to know what's in the Brown corpus, our NLTK example of an \"overlapping\" corpus."
   ]
  },
  {
   "cell_type": "code",
   "execution_count": 16,
   "id": "12fc31a0",
   "metadata": {},
   "outputs": [
    {
     "name": "stderr",
     "output_type": "stream",
     "text": [
      "C:\\Users\\saith\\anaconda3\\lib\\site-packages\\ipykernel\\ipkernel.py:287: DeprecationWarning: `should_run_async` will not call `transform_cell` automatically in the future. Please pass the result to `transformed_cell` argument and any exception that happen during thetransform in `preprocessing_exc_tuple` in IPython 7.17 and above.\n",
      "  and should_run_async(code)\n",
      "[nltk_data] Downloading package brown to\n",
      "[nltk_data]     C:\\Users\\saith\\AppData\\Roaming\\nltk_data...\n",
      "[nltk_data]   Unzipping corpora\\brown.zip.\n"
     ]
    },
    {
     "data": {
      "text/plain": [
       "True"
      ]
     },
     "execution_count": 16,
     "metadata": {},
     "output_type": "execute_result"
    }
   ],
   "source": [
    "import nltk\n",
    "nltk.download('brown')\n"
   ]
  },
  {
   "cell_type": "code",
   "execution_count": 17,
   "id": "457c59ed",
   "metadata": {},
   "outputs": [
    {
     "name": "stderr",
     "output_type": "stream",
     "text": [
      "C:\\Users\\saith\\anaconda3\\lib\\site-packages\\ipykernel\\ipkernel.py:287: DeprecationWarning: `should_run_async` will not call `transform_cell` automatically in the future. Please pass the result to `transformed_cell` argument and any exception that happen during thetransform in `preprocessing_exc_tuple` in IPython 7.17 and above.\n",
      "  and should_run_async(code)\n"
     ]
    },
    {
     "name": "stdout",
     "output_type": "stream",
     "text": [
      "For adventure we have 29 articles.\n",
      "For belles_lettres we have 75 articles.\n",
      "For editorial we have 27 articles.\n",
      "For fiction we have 29 articles.\n",
      "For government we have 30 articles.\n",
      "For hobbies we have 36 articles.\n",
      "For humor we have 9 articles.\n",
      "For learned we have 80 articles.\n",
      "For lore we have 48 articles.\n",
      "For mystery we have 24 articles.\n",
      "For news we have 44 articles.\n",
      "For religion we have 17 articles.\n",
      "For reviews we have 17 articles.\n",
      "For romance we have 29 articles.\n",
      "For science_fiction we have 6 articles.\n"
     ]
    }
   ],
   "source": [
    "# categories of articles in Brown corpus\n",
    "for category in brown.categories() :\n",
    "    print(f\"For {category} we have {len(brown.fileids(categories=category))} articles.\")"
   ]
  },
  {
   "cell_type": "markdown",
   "id": "23fb133c",
   "metadata": {},
   "source": [
    "Let's create a dataframe of the articles in of hobbies, editorial, government, news, and romance."
   ]
  },
  {
   "cell_type": "code",
   "execution_count": 18,
   "id": "18f50b9d",
   "metadata": {},
   "outputs": [
    {
     "name": "stderr",
     "output_type": "stream",
     "text": [
      "C:\\Users\\saith\\anaconda3\\lib\\site-packages\\ipykernel\\ipkernel.py:287: DeprecationWarning: `should_run_async` will not call `transform_cell` automatically in the future. Please pass the result to `transformed_cell` argument and any exception that happen during thetransform in `preprocessing_exc_tuple` in IPython 7.17 and above.\n",
      "  and should_run_async(code)\n"
     ]
    },
    {
     "data": {
      "text/plain": [
       "(166, 3)"
      ]
     },
     "execution_count": 18,
     "metadata": {},
     "output_type": "execute_result"
    }
   ],
   "source": [
    "categories = ['editorial','government','news','romance','hobbies'] \n",
    "\n",
    "category_list = []\n",
    "file_ids = []\n",
    "texts = []\n",
    "\n",
    "for category in categories : \n",
    "    for file_id in brown.fileids(categories=category) :\n",
    "        \n",
    "        # build some lists for a dataframe\n",
    "        category_list.append(category)\n",
    "        file_ids.append(file_id)\n",
    "        \n",
    "        text = brown.words(fileids=file_id)\n",
    "        texts.append(\" \".join(text))\n",
    "\n",
    "        \n",
    "        \n",
    "df = pd.DataFrame()\n",
    "df['category'] = category_list\n",
    "df['id'] = file_ids\n",
    "df['text'] = texts \n",
    "\n",
    "df.shape"
   ]
  },
  {
   "cell_type": "code",
   "execution_count": 19,
   "id": "586f47de",
   "metadata": {},
   "outputs": [
    {
     "name": "stderr",
     "output_type": "stream",
     "text": [
      "C:\\Users\\saith\\anaconda3\\lib\\site-packages\\ipykernel\\ipkernel.py:287: DeprecationWarning: `should_run_async` will not call `transform_cell` automatically in the future. Please pass the result to `transformed_cell` argument and any exception that happen during thetransform in `preprocessing_exc_tuple` in IPython 7.17 and above.\n",
      "  and should_run_async(code)\n"
     ]
    }
   ],
   "source": [
    "# Let's add some helpful columns on the df\n",
    "df['char_len'] = df['text'].apply(len)\n",
    "df['word_len'] = df['text'].apply(lambda x: len(x.split()))\n"
   ]
  },
  {
   "cell_type": "code",
   "execution_count": 20,
   "id": "2128fd2d",
   "metadata": {},
   "outputs": [
    {
     "name": "stderr",
     "output_type": "stream",
     "text": [
      "C:\\Users\\saith\\anaconda3\\lib\\site-packages\\ipykernel\\ipkernel.py:287: DeprecationWarning: `should_run_async` will not call `transform_cell` automatically in the future. Please pass the result to `transformed_cell` argument and any exception that happen during thetransform in `preprocessing_exc_tuple` in IPython 7.17 and above.\n",
      "  and should_run_async(code)\n"
     ]
    },
    {
     "data": {
      "text/plain": [
       "<AxesSubplot:xlabel='category'>"
      ]
     },
     "execution_count": 20,
     "metadata": {},
     "output_type": "execute_result"
    },
    {
     "data": {
      "image/png": "[encoded data removed]",
      "text/plain": [
       "<Figure size 720x432 with 1 Axes>"
      ]
     },
     "metadata": {
      "needs_background": "light"
     },
     "output_type": "display_data"
    }
   ],
   "source": [
    "%matplotlib inline\n",
    "df.groupby('category').agg({'word_len': 'mean'}).plot.bar(figsize=(10,6))"
   ]
  },
  {
   "cell_type": "markdown",
   "id": "554ffeb5",
   "metadata": {},
   "source": [
    "Now do our TF-IDF and Count vectorizations."
   ]
  },
  {
   "cell_type": "code",
   "execution_count": 21,
   "id": "21a7d247",
   "metadata": {},
   "outputs": [
    {
     "name": "stderr",
     "output_type": "stream",
     "text": [
      "C:\\Users\\saith\\anaconda3\\lib\\site-packages\\ipykernel\\ipkernel.py:287: DeprecationWarning: `should_run_async` will not call `transform_cell` automatically in the future. Please pass the result to `transformed_cell` argument and any exception that happen during thetransform in `preprocessing_exc_tuple` in IPython 7.17 and above.\n",
      "  and should_run_async(code)\n",
      "C:\\Users\\saith\\anaconda3\\lib\\site-packages\\sklearn\\feature_extraction\\text.py:388: UserWarning: Your stop_words may be inconsistent with your preprocessing. Tokenizing the stop words generated tokens ['ll', 've'] not in stop_words.\n",
      "  warnings.warn('Your stop_words may be inconsistent with '\n"
     ]
    },
    {
     "data": {
      "text/plain": [
       "(166, 4941)"
      ]
     },
     "execution_count": 21,
     "metadata": {},
     "output_type": "execute_result"
    }
   ],
   "source": [
    "count_text_vectorizer = CountVectorizer(stop_words=stopwords, min_df=5, max_df=0.7)\n",
    "count_text_vectors = count_text_vectorizer.fit_transform(df[\"text\"])\n",
    "count_text_vectors.shape"
   ]
  },
  {
   "cell_type": "code",
   "execution_count": 22,
   "id": "875deba9",
   "metadata": {},
   "outputs": [
    {
     "name": "stderr",
     "output_type": "stream",
     "text": [
      "C:\\Users\\saith\\anaconda3\\lib\\site-packages\\ipykernel\\ipkernel.py:287: DeprecationWarning: `should_run_async` will not call `transform_cell` automatically in the future. Please pass the result to `transformed_cell` argument and any exception that happen during thetransform in `preprocessing_exc_tuple` in IPython 7.17 and above.\n",
      "  and should_run_async(code)\n"
     ]
    },
    {
     "data": {
      "text/plain": [
       "(166, 4941)"
      ]
     },
     "execution_count": 22,
     "metadata": {},
     "output_type": "execute_result"
    }
   ],
   "source": [
    "tfidf_text_vectorizer = TfidfVectorizer(stop_words=stopwords, min_df=5, max_df=0.7)\n",
    "tfidf_text_vectors = tfidf_text_vectorizer.fit_transform(df['text'])\n",
    "tfidf_text_vectors.shape"
   ]
  },
  {
   "cell_type": "markdown",
   "id": "0db8ca8e",
   "metadata": {},
   "source": [
    "Q: What do the two data frames `count_text_vectors` and `tfidf_text_vectors` hold? \n",
    "\n",
    "A:For count_text_vectors it hold a matrix that includes rows as documents and columns as unique words among all documents. In term of values, each word showing up in each documents. For tfidf_text_vectors it holds the values that includes tfidf score for each document and each word"
   ]
  },
  {
   "cell_type": "markdown",
   "id": "f77c3f94",
   "metadata": {},
   "source": [
    "## Fitting a Non-Negative Matrix Factorization Model\n",
    "\n",
    "In this section the code to fit a five-topic NMF model has already been written. This code comes directly from the [BTAP repo](https://github.com/blueprints-for-text-analytics-python/blueprints-text), which will help you tremendously in the coming sections. "
   ]
  },
  {
   "cell_type": "code",
   "execution_count": 23,
   "id": "d28745a3",
   "metadata": {},
   "outputs": [
    {
     "name": "stderr",
     "output_type": "stream",
     "text": [
      "C:\\Users\\saith\\anaconda3\\lib\\site-packages\\ipykernel\\ipkernel.py:287: DeprecationWarning: `should_run_async` will not call `transform_cell` automatically in the future. Please pass the result to `transformed_cell` argument and any exception that happen during thetransform in `preprocessing_exc_tuple` in IPython 7.17 and above.\n",
      "  and should_run_async(code)\n",
      "C:\\Users\\saith\\anaconda3\\lib\\site-packages\\sklearn\\decomposition\\_nmf.py:312: FutureWarning: The 'init' value, when 'init=None' and n_components is less than n_samples and n_features, will be changed from 'nndsvd' to 'nndsvda' in 1.1 (renaming of 0.26).\n",
      "  warnings.warn((\"The 'init' value, when 'init=None' and \"\n"
     ]
    }
   ],
   "source": [
    "nmf_text_model = NMF(n_components=5, random_state=314)\n",
    "W_text_matrix = nmf_text_model.fit_transform(tfidf_text_vectors)\n",
    "H_text_matrix = nmf_text_model.components_"
   ]
  },
  {
   "cell_type": "code",
   "execution_count": 24,
   "id": "a67185e7",
   "metadata": {},
   "outputs": [
    {
     "name": "stdout",
     "output_type": "stream",
     "text": [
      "\n",
      "Topic 00\n",
      "  mr (0.51)\n",
      "  president (0.45)\n",
      "  kennedy (0.43)\n",
      "  united (0.42)\n",
      "  khrushchev (0.40)\n",
      "\n",
      "Topic 01\n",
      "  said (0.88)\n",
      "  didn (0.46)\n",
      "  ll (0.45)\n",
      "  thought (0.42)\n",
      "  man (0.37)\n",
      "\n",
      "Topic 02\n",
      "  state (0.40)\n",
      "  development (0.36)\n",
      "  tax (0.33)\n",
      "  sales (0.30)\n",
      "  program (0.25)\n",
      "\n",
      "Topic 03\n",
      "  mrs (2.61)\n",
      "  mr (0.78)\n",
      "  said (0.64)\n",
      "  miss (0.52)\n",
      "  car (0.51)\n",
      "\n",
      "Topic 04\n",
      "  game (1.01)\n",
      "  league (0.74)\n",
      "  ball (0.72)\n",
      "  baseball (0.71)\n",
      "  team (0.66)\n"
     ]
    },
    {
     "name": "stderr",
     "output_type": "stream",
     "text": [
      "C:\\Users\\saith\\anaconda3\\lib\\site-packages\\ipykernel\\ipkernel.py:287: DeprecationWarning: `should_run_async` will not call `transform_cell` automatically in the future. Please pass the result to `transformed_cell` argument and any exception that happen during thetransform in `preprocessing_exc_tuple` in IPython 7.17 and above.\n",
      "  and should_run_async(code)\n"
     ]
    }
   ],
   "source": [
    "display_topics(nmf_text_model, tfidf_text_vectorizer.get_feature_names())"
   ]
  },
  {
   "cell_type": "markdown",
   "id": "fee51e9b",
   "metadata": {},
   "source": [
    "Now some work for you to do. Compare the NMF factorization to the original categories from the Brown Corpus."
   ]
  },
  {
   "cell_type": "code",
   "execution_count": 25,
   "id": "7c8c8eb0",
   "metadata": {},
   "outputs": [
    {
     "name": "stderr",
     "output_type": "stream",
     "text": [
      "C:\\Users\\saith\\anaconda3\\lib\\site-packages\\ipykernel\\ipkernel.py:287: DeprecationWarning: `should_run_async` will not call `transform_cell` automatically in the future. Please pass the result to `transformed_cell` argument and any exception that happen during thetransform in `preprocessing_exc_tuple` in IPython 7.17 and above.\n",
      "  and should_run_async(code)\n"
     ]
    },
    {
     "data": {
      "text/html": [
       "<div>\n",
       "<style scoped>\n",
       "    .dataframe tbody tr th:only-of-type {\n",
       "        vertical-align: middle;\n",
       "    }\n",
       "\n",
       "    .dataframe tbody tr th {\n",
       "        vertical-align: top;\n",
       "    }\n",
       "\n",
       "    .dataframe thead th {\n",
       "        text-align: right;\n",
       "    }\n",
       "</style>\n",
       "<table border=\"1\" class=\"dataframe\">\n",
       "  <thead>\n",
       "    <tr style=\"text-align: right;\">\n",
       "      <th>category</th>\n",
       "      <th>editorial</th>\n",
       "      <th>government</th>\n",
       "      <th>hobbies</th>\n",
       "      <th>news</th>\n",
       "      <th>romance</th>\n",
       "    </tr>\n",
       "    <tr>\n",
       "      <th>topic</th>\n",
       "      <th></th>\n",
       "      <th></th>\n",
       "      <th></th>\n",
       "      <th></th>\n",
       "      <th></th>\n",
       "    </tr>\n",
       "  </thead>\n",
       "  <tbody>\n",
       "    <tr>\n",
       "      <th>0</th>\n",
       "      <td>20</td>\n",
       "      <td>4</td>\n",
       "      <td>0</td>\n",
       "      <td>8</td>\n",
       "      <td>0</td>\n",
       "    </tr>\n",
       "    <tr>\n",
       "      <th>1</th>\n",
       "      <td>4</td>\n",
       "      <td>0</td>\n",
       "      <td>8</td>\n",
       "      <td>0</td>\n",
       "      <td>29</td>\n",
       "    </tr>\n",
       "    <tr>\n",
       "      <th>2</th>\n",
       "      <td>2</td>\n",
       "      <td>26</td>\n",
       "      <td>26</td>\n",
       "      <td>11</td>\n",
       "      <td>0</td>\n",
       "    </tr>\n",
       "    <tr>\n",
       "      <th>3</th>\n",
       "      <td>0</td>\n",
       "      <td>0</td>\n",
       "      <td>1</td>\n",
       "      <td>17</td>\n",
       "      <td>0</td>\n",
       "    </tr>\n",
       "    <tr>\n",
       "      <th>4</th>\n",
       "      <td>1</td>\n",
       "      <td>0</td>\n",
       "      <td>1</td>\n",
       "      <td>8</td>\n",
       "      <td>0</td>\n",
       "    </tr>\n",
       "  </tbody>\n",
       "</table>\n",
       "</div>"
      ],
      "text/plain": [
       "category  editorial  government  hobbies  news  romance\n",
       "topic                                                  \n",
       "0                20           4        0     8        0\n",
       "1                 4           0        8     0       29\n",
       "2                 2          26       26    11        0\n",
       "3                 0           0        1    17        0\n",
       "4                 1           0        1     8        0"
      ]
     },
     "execution_count": 25,
     "metadata": {},
     "output_type": "execute_result"
    }
   ],
   "source": [
    "# Your code here\n",
    "df['topic'] = W_text_matrix.argmax(1)\n",
    "pd.crosstab(df['topic'], df['category'])"
   ]
  },
  {
   "cell_type": "code",
   "execution_count": 27,
   "id": "0a099da2",
   "metadata": {},
   "outputs": [
    {
     "name": "stdout",
     "output_type": "stream",
     "text": [
      "Editorial category top 5 words are:\n",
      "khrushchev    0.479395\n",
      "tests         0.418295\n",
      "editor        0.396777\n",
      "god           0.391121\n",
      "china         0.370659\n",
      "Name: editorial, dtype: float64\n",
      "\n",
      "The government category top 5 words are:\n",
      "shelter    0.759300\n",
      "motors     0.703440\n",
      "fiscal     0.694126\n",
      "faculty    0.670545\n",
      "rayburn    0.654645\n",
      "Name: government, dtype: float64\n",
      "\n",
      "The hobbies category top 5 words are:\n",
      "pool       0.903746\n",
      "feed       0.816179\n",
      "clay       0.759021\n",
      "bridge     0.747609\n",
      "cooling    0.619117\n",
      "Name: hobbies, dtype: float64\n",
      "\n",
      "The news category top 5 words are:\n",
      "mrs        0.862278\n",
      "congo      0.708887\n",
      "player     0.703541\n",
      "library    0.566672\n",
      "dallas     0.533203\n",
      "Name: news, dtype: float64\n",
      "\n",
      "The romance category top 5 words are:\n",
      "john         0.733730\n",
      "cousin       0.654009\n",
      "martin       0.604172\n",
      "susan        0.593875\n",
      "alexander    0.591068\n",
      "Name: romance, dtype: float64\n"
     ]
    },
    {
     "name": "stderr",
     "output_type": "stream",
     "text": [
      "C:\\Users\\saith\\anaconda3\\lib\\site-packages\\ipykernel\\ipkernel.py:287: DeprecationWarning: `should_run_async` will not call `transform_cell` automatically in the future. Please pass the result to `transformed_cell` argument and any exception that happen during thetransform in `preprocessing_exc_tuple` in IPython 7.17 and above.\n",
      "  and should_run_async(code)\n"
     ]
    }
   ],
   "source": [
    "def get_max_vals(vec_df, vectorizer):\n",
    "    # dataframe with category labels\n",
    "    brown_text_df = pd.DataFrame(vec_df.toarray(), columns = vectorizer.get_feature_names())\n",
    "    brown_text_df['category'] = df['category']\n",
    "    # max value for each word within each category\n",
    "    brown_text_max_values = pd.DataFrame(brown_text_df.groupby('category').max())\n",
    "\n",
    "    # Editorial category's top 5 words\n",
    "    print('Editorial category top 5 words are:')\n",
    "    print(brown_text_max_values.T['editorial'].nlargest(n = 5))\n",
    "\n",
    "    # Top 5 words for the government hobby news romance\n",
    "    print('\\nThe government category top 5 words are:')\n",
    "    print(brown_text_max_values.T['government'].nlargest(n = 5))\n",
    "\n",
    "    # Top 5 words for the hobby category\n",
    "    print('\\nThe hobbies category top 5 words are:')\n",
    "    print(brown_text_max_values.T['hobbies'].nlargest(n = 5))\n",
    "\n",
    "    # Top 5 words for the news category\n",
    "    print('\\nThe news category top 5 words are:')\n",
    "    print(brown_text_max_values.T['news'].nlargest(n = 5))\n",
    "\n",
    "    # Top 5 words for the romance\n",
    "    print('\\nThe romance category top 5 words are:')\n",
    "    print(brown_text_max_values.T['romance'].nlargest(n = 5))\n",
    "\n",
    "# call function with TF-IDF weights as the max value measure - max values of original categories\n",
    "get_max_vals(tfidf_text_vectors, tfidf_text_vectorizer)"
   ]
  },
  {
   "cell_type": "code",
   "execution_count": 28,
   "id": "3fbc7856",
   "metadata": {},
   "outputs": [
    {
     "name": "stdout",
     "output_type": "stream",
     "text": [
      "Editorial category top 5 words are:\n",
      "mr            21\n",
      "khrushchev    20\n",
      "east          19\n",
      "united        19\n",
      "west          17\n",
      "Name: editorial, dtype: int64\n",
      "\n",
      "The government category top 5 words are:\n",
      "fiscal      67\n",
      "state       63\n",
      "business    54\n",
      "shelter     53\n",
      "brown       52\n",
      "Name: government, dtype: int64\n",
      "\n",
      "The hobbies category top 5 words are:\n",
      "feed        82\n",
      "clay        65\n",
      "pool        51\n",
      "bridge      39\n",
      "aircraft    35\n",
      "Name: hobbies, dtype: int64\n",
      "\n",
      "The news category top 5 words are:\n",
      "mrs        98\n",
      "player     34\n",
      "said       31\n",
      "meeting    29\n",
      "congo      28\n",
      "Name: news, dtype: int64\n",
      "\n",
      "The romance category top 5 words are:\n",
      "john      52\n",
      "said      26\n",
      "cousin    22\n",
      "boy       21\n",
      "martin    21\n",
      "Name: romance, dtype: int64\n"
     ]
    },
    {
     "name": "stderr",
     "output_type": "stream",
     "text": [
      "C:\\Users\\saith\\anaconda3\\lib\\site-packages\\ipykernel\\ipkernel.py:287: DeprecationWarning: `should_run_async` will not call `transform_cell` automatically in the future. Please pass the result to `transformed_cell` argument and any exception that happen during thetransform in `preprocessing_exc_tuple` in IPython 7.17 and above.\n",
      "  and should_run_async(code)\n"
     ]
    }
   ],
   "source": [
    "# Top words by count\n",
    "get_max_vals(count_text_vectors, count_text_vectorizer)"
   ]
  },
  {
   "cell_type": "markdown",
   "id": "f6c5bc51",
   "metadata": {},
   "source": [
    "Q: How does your five-topic NMF model compare to the original Brown categories? \n",
    "\n",
    "A: <!-- Your answer here -->  There are some overlaps top words between the five-topic NMF model and the top words in the original Brown categories. The overlap categores are 'mrs', 'said'. "
   ]
  },
  {
   "cell_type": "markdown",
   "id": "82e37cb5",
   "metadata": {},
   "source": [
    "## Fitting an LSA Model\n",
    "\n",
    "In this section, follow the example from the repository and fit an LSA model (called a \"TruncatedSVD\" in `sklearn`). Again fit a five-topic model and compare it to the actual categories in the Brown corpus. Use the TF-IDF vectors for your fit, as above. "
   ]
  },
  {
   "cell_type": "code",
   "execution_count": 30,
   "id": "00b53d3d",
   "metadata": {},
   "outputs": [
    {
     "name": "stderr",
     "output_type": "stream",
     "text": [
      "C:\\Users\\saith\\anaconda3\\lib\\site-packages\\ipykernel\\ipkernel.py:287: DeprecationWarning: `should_run_async` will not call `transform_cell` automatically in the future. Please pass the result to `transformed_cell` argument and any exception that happen during thetransform in `preprocessing_exc_tuple` in IPython 7.17 and above.\n",
      "  and should_run_async(code)\n"
     ]
    }
   ],
   "source": [
    "# Your code here\n",
    "# Fit truncated SVD model (LSA)\n",
    "svd_text_model = TruncatedSVD(n_components=5, random_state=314)\n",
    "W_svd_text_matrix = svd_text_model.fit_transform(tfidf_text_vectors)\n",
    "H_svd_text_matrix = svd_text_model.components_"
   ]
  },
  {
   "cell_type": "markdown",
   "id": "cab54ed3",
   "metadata": {},
   "source": [
    "Q: How does your five-topic LSA model compare to the original Brown categories? \n",
    "\n",
    "A: <!-- Your answer here --> There are similarities between LSA model and the NMF topics. There are differences in the top words between the Brown categories and the LSA model topics. There are not many overlaps between the original categories and the LSA topics. "
   ]
  },
  {
   "cell_type": "code",
   "execution_count": 31,
   "id": "377a886e",
   "metadata": {},
   "outputs": [
    {
     "name": "stdout",
     "output_type": "stream",
     "text": [
      "\n",
      "Topic 00\n",
      "  said (0.44)\n",
      "  mr (0.25)\n",
      "  mrs (0.22)\n",
      "  state (0.20)\n",
      "  man (0.17)\n",
      "\n",
      "Topic 01\n",
      "  said (3.89)\n",
      "  ll (2.73)\n",
      "  didn (2.63)\n",
      "  thought (2.20)\n",
      "  got (1.97)\n",
      "\n",
      "Topic 02\n",
      "  mrs (3.12)\n",
      "  mr (1.70)\n",
      "  said (1.06)\n",
      "  kennedy (0.82)\n",
      "  khrushchev (0.77)\n",
      "\n",
      "Topic 03\n",
      "  mrs (29.45)\n",
      "  club (6.53)\n",
      "  game (6.12)\n",
      "  jr (5.60)\n",
      "  university (5.20)\n",
      "\n",
      "Topic 04\n",
      "  game (4.54)\n",
      "  league (3.27)\n",
      "  baseball (3.22)\n",
      "  ball (3.10)\n",
      "  team (2.94)\n"
     ]
    },
    {
     "name": "stderr",
     "output_type": "stream",
     "text": [
      "C:\\Users\\saith\\anaconda3\\lib\\site-packages\\ipykernel\\ipkernel.py:287: DeprecationWarning: `should_run_async` will not call `transform_cell` automatically in the future. Please pass the result to `transformed_cell` argument and any exception that happen during thetransform in `preprocessing_exc_tuple` in IPython 7.17 and above.\n",
      "  and should_run_async(code)\n"
     ]
    }
   ],
   "source": [
    "# call display_topics on your model\n",
    "display_topics(svd_text_model, tfidf_text_vectorizer.get_feature_names())"
   ]
  },
  {
   "cell_type": "markdown",
   "id": "007c0e79",
   "metadata": {},
   "source": [
    "Q: What is your interpretation of the display topics output? \n",
    "\n",
    "A: The display topics hilights the fact that the topics generated by the model contributes each word to the topic. The word 'mrs' in Topic 03 shows a larger contribution (29.45) to the topic group than the word 'university'(5.2). Topic 02 shows kennedy and krushche so that it related to Cold War error topic nuclear tension between the U.S and Russia. Topic 04 shows game, leagu, baseball, ball, team so that it related to sport. Topic 03 related to academic."
   ]
  },
  {
   "cell_type": "markdown",
   "id": "b4ab4d29",
   "metadata": {},
   "source": [
    "## Fitting an LDA Model\n",
    "\n",
    "Finally, fit a five-topic LDA model using the count vectors (`count_text_vectors` from above). Display the results using `pyLDAvis.display` and describe what you learn from that visualization. "
   ]
  },
  {
   "cell_type": "code",
   "execution_count": 34,
   "id": "802cb8ff",
   "metadata": {},
   "outputs": [
    {
     "name": "stderr",
     "output_type": "stream",
     "text": [
      "C:\\Users\\saith\\anaconda3\\lib\\site-packages\\ipykernel\\ipkernel.py:287: DeprecationWarning: `should_run_async` will not call `transform_cell` automatically in the future. Please pass the result to `transformed_cell` argument and any exception that happen during thetransform in `preprocessing_exc_tuple` in IPython 7.17 and above.\n",
      "  and should_run_async(code)\n"
     ]
    }
   ],
   "source": [
    "# Fit your LDA model here\n",
    "lda_text_model = LatentDirichletAllocation(n_components=5, random_state=314)\n",
    "W_lda_text_matrix = lda_text_model.fit_transform(count_text_vectors)\n",
    "H_lda_text_matrix = lda_text_model.components_"
   ]
  },
  {
   "cell_type": "code",
   "execution_count": 35,
   "id": "ab18adf5",
   "metadata": {},
   "outputs": [
    {
     "name": "stdout",
     "output_type": "stream",
     "text": [
      "\n",
      "Topic 00\n",
      "  said (1.05)\n",
      "  mrs (0.82)\n",
      "  little (0.56)\n",
      "  good (0.51)\n",
      "  way (0.50)\n",
      "\n",
      "Topic 01\n",
      "  state (0.67)\n",
      "  development (0.63)\n",
      "  000 (0.57)\n",
      "  program (0.48)\n",
      "  business (0.44)\n",
      "\n",
      "Topic 02\n",
      "  said (1.18)\n",
      "  mr (0.72)\n",
      "  president (0.51)\n",
      "  city (0.43)\n",
      "  state (0.37)\n",
      "\n",
      "Topic 03\n",
      "  feed (0.55)\n",
      "  college (0.54)\n",
      "  general (0.44)\n",
      "  university (0.43)\n",
      "  work (0.37)\n",
      "\n",
      "Topic 04\n",
      "  states (1.14)\n",
      "  state (1.02)\n",
      "  united (0.84)\n",
      "  shall (0.66)\n",
      "  government (0.61)\n"
     ]
    },
    {
     "name": "stderr",
     "output_type": "stream",
     "text": [
      "C:\\Users\\saith\\anaconda3\\lib\\site-packages\\ipykernel\\ipkernel.py:287: DeprecationWarning: `should_run_async` will not call `transform_cell` automatically in the future. Please pass the result to `transformed_cell` argument and any exception that happen during thetransform in `preprocessing_exc_tuple` in IPython 7.17 and above.\n",
      "  and should_run_async(code)\n"
     ]
    }
   ],
   "source": [
    "# Call `display_topics` on your fitted model here\n",
    "display_topics(lda_text_model, count_text_vectorizer.get_feature_names())"
   ]
  },
  {
   "cell_type": "markdown",
   "id": "17dc5e64",
   "metadata": {},
   "source": [
    "Q: What inference do you draw from the displayed topics for your LDA model? \n",
    "\n",
    "A: <!-- Your answer here --> The displayed topics show similaroties to the previous models. All topics related to politics, government topics, and academic. It also shows topics grouping on the government, politics, and academic.\n",
    "\n",
    "\n",
    "Q: How does your five-topic LDA model compare to the original Brown categories? \n",
    "\n",
    "A: <!-- Your answer here --> The five-topics LDA model is overlapped with the original Brown categories government category."
   ]
  },
  {
   "cell_type": "code",
   "execution_count": 36,
   "id": "6aae75ca",
   "metadata": {},
   "outputs": [
    {
     "name": "stderr",
     "output_type": "stream",
     "text": [
      "C:\\Users\\saith\\anaconda3\\lib\\site-packages\\ipykernel\\ipkernel.py:287: DeprecationWarning: `should_run_async` will not call `transform_cell` automatically in the future. Please pass the result to `transformed_cell` argument and any exception that happen during thetransform in `preprocessing_exc_tuple` in IPython 7.17 and above.\n",
      "  and should_run_async(code)\n"
     ]
    }
   ],
   "source": [
    "lda_display = pyLDAvis.sklearn.prepare(lda_text_model, count_text_vectors, count_text_vectorizer, sort_topics=False)"
   ]
  },
  {
   "cell_type": "code",
   "execution_count": 37,
   "id": "2a89fc15",
   "metadata": {},
   "outputs": [
    {
     "name": "stderr",
     "output_type": "stream",
     "text": [
      "C:\\Users\\saith\\anaconda3\\lib\\site-packages\\ipykernel\\ipkernel.py:287: DeprecationWarning: `should_run_async` will not call `transform_cell` automatically in the future. Please pass the result to `transformed_cell` argument and any exception that happen during thetransform in `preprocessing_exc_tuple` in IPython 7.17 and above.\n",
      "  and should_run_async(code)\n"
     ]
    },
    {
     "data": {
      "text/html": [
       "\n",
       "<link rel=\"stylesheet\" type=\"text/css\" href=\"https://cdn.jsdelivr.net/gh/bmabey/pyLDAvis@3.3.1/pyLDAvis/js/ldavis.v1.0.0.css\">\n",
       "\n",
       "\n",
       "<div id=\"ldavis_el130023249443032641155204370\"></div>\n",
       "<script type=\"text/javascript\">\n",
       "\n",
       "var ldavis_el130023249443032641155204370_data = {\"mdsDat\": {\"x\": [-0.24352303362204133, 0.13055719395525908, -0.05665667547392643, 0.04142748483975067, 0.12819503030095797], \"y\": [0.0068297206794742755, -0.05588474470164529, 0.0385236628744661, -0.11285215230955974, 0.1233835134572646], \"topics\": [1, 2, 3, 4, 5], \"cluster\": [1, 1, 1, 1, 1], \"Freq\": [22.896957296534495, 20.431968542841823, 32.00626407252689, 12.368825612931916, 12.295984475164863]}, \"tinfo\": {\"Term\": [\"states\", \"state\", \"said\", \"mrs\", \"united\", \"shall\", \"development\", \"tax\", \"feed\", \"fiscal\", \"college\", \"government\", \"ll\", \"don\", \"000\", \"university\", \"department\", \"didn\", \"sales\", \"president\", \"rhode\", \"got\", \"equipment\", \"little\", \"mother\", \"class\", \"act\", \"program\", \"system\", \"property\", \"hair\", \"baby\", \"clothes\", \"walls\", \"anne\", \"fig\", \"pale\", \"pink\", \"dry\", \"yellow\", \"entrance\", \"hadn\", \"ham\", \"couldn\", \"frames\", \"fingers\", \"flowers\", \"windows\", \"bride\", \"hell\", \"handsome\", \"coat\", \"cloth\", \"sweet\", \"stared\", \"liked\", \"colored\", \"studio\", \"bed\", \"trees\", \"shelter\", \"mother\", \"looked\", \"clay\", \"wasn\", \"guests\", \"didn\", \"woman\", \"sat\", \"pieces\", \"colors\", \"eyes\", \"drill\", \"mrs\", \"ll\", \"don\", \"thought\", \"room\", \"sun\", \"inch\", \"ve\", \"black\", \"little\", \"knew\", \"went\", \"sure\", \"got\", \"door\", \"look\", \"son\", \"know\", \"said\", \"way\", \"come\", \"came\", \"good\", \"place\", \"away\", \"old\", \"water\", \"right\", \"man\", \"let\", \"life\", \"left\", \"house\", \"day\", \"home\", \"systems\", \"marketing\", \"electronic\", \"boats\", \"missiles\", \"components\", \"aircraft\", \"machine\", \"rhode\", \"assessment\", \"shipments\", \"laboratory\", \"bankers\", \"savings\", \"yield\", \"industrial\", \"forests\", \"compared\", \"machines\", \"procurement\", \"missile\", \"conservation\", \"utility\", \"inventories\", \"polaris\", \"manufacturing\", \"machinery\", \"investment\", \"recreation\", \"banks\", \"property\", \"industry\", \"equipment\", \"sales\", \"radiation\", \"planning\", \"development\", \"medical\", \"providence\", \"billion\", \"system\", \"shares\", \"manufacturers\", \"island\", \"1960\", \"production\", \"1959\", \"products\", \"research\", \"co\", \"range\", \"000\", \"program\", \"business\", \"cost\", \"million\", \"available\", \"state\", \"small\", \"company\", \"national\", \"1961\", \"provide\", \"areas\", \"service\", \"use\", \"military\", \"tax\", \"public\", \"khrushchev\", \"player\", \"rayburn\", \"congo\", \"republican\", \"moscow\", \"southern\", \"baseball\", \"railroad\", \"castro\", \"troops\", \"yards\", \"charter\", \"yankees\", \"premier\", \"alexander\", \"democrats\", \"captain\", \"chinese\", \"coach\", \"laos\", \"gen\", \"cuban\", \"opposition\", \"soviet\", \"katanga\", \"republicans\", \"pope\", \"bombs\", \"robinson\", \"berlin\", \"speaker\", \"communist\", \"democratic\", \"eisenhower\", \"league\", \"mayor\", \"cuba\", \"st\", \"police\", \"yesterday\", \"china\", \"west\", \"monday\", \"race\", \"john\", \"east\", \"kennedy\", \"city\", \"mr\", \"meeting\", \"party\", \"president\", \"said\", \"week\", \"war\", \"political\", \"nations\", \"game\", \"committee\", \"leaders\", \"american\", \"world\", \"york\", \"home\", \"county\", \"man\", \"united\", \"people\", \"house\", \"state\", \"day\", \"old\", \"000\", \"government\", \"men\", \"national\", \"states\", \"school\", \"academic\", \"faculty\", \"trustees\", \"campus\", \"recognition\", \"classical\", \"professors\", \"mathematics\", \"musical\", \"tends\", \"feed\", \"stockholders\", \"fulfill\", \"meat\", \"unions\", \"chemical\", \"motors\", \"prosperity\", \"cattle\", \"prestige\", \"designer\", \"curriculum\", \"clerical\", \"catholic\", \"collective\", \"recorded\", \"appearances\", \"creative\", \"membership\", \"trust\", \"music\", \"chamber\", \"students\", \"student\", \"colleges\", \"teachers\", \"college\", \"engineer\", \"interior\", \"university\", \"daily\", \"pool\", \"schools\", \"education\", \"art\", \"general\", \"anti\", \"members\", \"technical\", \"labor\", \"design\", \"administration\", \"level\", \"work\", \"school\", \"president\", \"problem\", \"board\", \"department\", \"american\", \"good\", \"men\", \"aid\", \"world\", \"high\", \"cousin\", \"rehabilitation\", \"coal\", \"vocational\", \"definition\", \"denied\", \"thereof\", \"bonds\", \"payment\", \"rico\", \"puerto\", \"coordination\", \"filing\", \"adopting\", \"recommendation\", \"calendar\", \"hated\", \"proceedings\", \"commodities\", \"sectors\", \"connections\", \"62\", \"vehicles\", \"allocation\", \"treasury\", \"tractor\", \"adjustments\", \"upstairs\", \"shall\", \"assigned\", \"india\", \"exercise\", \"interference\", \"payments\", \"fiscal\", \"authorized\", \"claim\", \"stations\", \"insurance\", \"claims\", \"class\", \"states\", \"income\", \"return\", \"tax\", \"united\", \"junior\", \"hearing\", \"act\", \"countries\", \"cars\", \"state\", \"agreement\", \"department\", \"government\", \"secretary\", \"officer\", \"section\", \"title\", \"federal\", \"use\", \"service\", \"30\", \"board\", \"services\", \"pay\", \"local\", \"day\"], \"Freq\": [328.0, 485.0, 803.0, 307.0, 298.0, 123.0, 199.0, 172.0, 93.0, 107.0, 120.0, 273.0, 167.0, 178.0, 282.0, 122.0, 153.0, 124.0, 117.0, 297.0, 86.0, 147.0, 105.0, 237.0, 97.0, 97.0, 127.0, 230.0, 142.0, 95.0, 35.26603169767952, 35.259854572870864, 32.342823917150504, 32.33880808918396, 34.23407300433102, 31.327619231629495, 26.498517625454507, 25.524771041025023, 23.57323677816413, 25.427138253320578, 21.619428115149066, 30.993044678951488, 19.675700186736584, 51.439817072385075, 20.589733305570054, 17.72631275209299, 23.305040810822863, 16.75197331091851, 17.677966184967985, 15.781789493525492, 15.780666162782108, 15.765038139000257, 14.807347406646542, 14.806857679256792, 14.806525243898387, 14.805562659021437, 15.721341674975061, 14.793031300690542, 34.14874849426122, 27.742455010304507, 57.20416985925256, 90.059858017145, 78.93387784968843, 75.71076669182487, 53.90723878296296, 29.982839371430057, 108.7307394199306, 50.25085074519484, 34.93419186644635, 48.29752376267052, 27.141746207592966, 83.99183249657628, 31.32831148326817, 234.33243224195473, 134.73682388828456, 142.22532063651994, 113.48998687104928, 84.7073928866143, 47.851073173593434, 58.28164360651556, 69.8220957267824, 54.44733492420302, 159.9387345606825, 71.32903793545297, 100.47914727932282, 70.8073941289152, 101.54763550743209, 56.564345442016084, 89.1493795819195, 57.9427876563147, 112.80221967394897, 300.1915799526999, 143.08214720581634, 108.66785528409207, 97.93192846288184, 146.72016490751116, 107.63695959300975, 81.83857826579656, 125.33252753577959, 93.65427756652984, 105.80662989454603, 122.43392673750691, 76.37882747857947, 81.85609009063351, 81.25833894745273, 87.71132897871965, 85.95109916972187, 84.11085690371262, 37.62033917696879, 41.260430437148216, 26.108504126894097, 38.014900667186446, 22.240995977940422, 21.223514374686534, 54.248483592252676, 50.394700061919096, 82.3381493049646, 17.226327234067053, 13.599502717078902, 16.290888590985343, 10.740632157231783, 17.00538725255214, 15.13334249422728, 72.03843499106006, 14.938223060272072, 24.574363297207984, 28.908173871233412, 17.448867762039562, 36.58474259793834, 7.854789008100243, 11.322258118599942, 6.910963131905759, 6.906977941612574, 18.16721140781806, 30.179415379306587, 24.91805800990386, 32.62393120086364, 16.267831354180657, 85.04409531611377, 85.23076408361703, 92.04061867537709, 102.21030740338118, 31.41994186225806, 72.29354736159638, 160.58456695669378, 84.12221117794063, 39.27101304252792, 47.15352590830229, 110.990315676995, 32.526568880509416, 35.56961213374264, 88.51387155669478, 93.2095888709794, 63.849746128262375, 50.2719627394997, 49.69605754659326, 72.6346942154109, 46.826210408830406, 53.984967876890686, 144.62866634727317, 123.5089684565537, 113.19861054790829, 73.61038906890636, 79.16133829903129, 74.66204969189849, 169.46520342296114, 100.42960965644953, 76.12853270707245, 92.2010591434523, 67.16061893470139, 66.50125650021177, 62.63129522802723, 86.66947068148028, 95.41631280398131, 65.25389352558302, 67.84173831149472, 65.61364145319399, 73.42554374783118, 48.67768498296591, 46.70642783836322, 43.73337493489183, 39.778178768084416, 37.80010747839428, 34.8272284101942, 39.61877024477501, 32.84180904847266, 29.881397928372543, 26.912817657012937, 26.899591011392946, 27.86029549757158, 25.9256158330256, 24.935202646112828, 24.92786072259932, 23.94619677327181, 23.938724665538516, 22.94971042948154, 22.940661109611224, 49.61478194372407, 21.955319680146957, 20.974708622899147, 20.956960655847748, 78.92743956978477, 19.98234147220935, 19.972841684788566, 19.967439518925527, 18.996535964167748, 18.99455107756806, 63.22425972645915, 40.660686563695165, 70.9627817605711, 59.00465760184132, 38.64663320997923, 57.99120476200705, 43.217711501538936, 36.746255661940744, 71.47530467432688, 44.37915026504173, 58.02965358273191, 32.82823725515491, 96.0841853883143, 58.4651541703085, 40.505659296093015, 142.98368478351773, 83.85420121427472, 111.1487557739349, 172.62353200026394, 287.87814236030147, 84.13213702614442, 92.01772270153542, 205.40634873734908, 470.8902208582261, 140.76265143256038, 113.011399502616, 71.05038233620014, 67.16518889885627, 73.87620209973903, 83.76171945290777, 50.002467140636504, 148.64615016805453, 138.1358696255811, 96.83009236355014, 140.02404620727506, 76.83350051553315, 129.58037547484798, 125.62152536157647, 118.36210204722838, 110.56501449328219, 148.84517946191295, 119.60071243642464, 108.7699114008118, 105.30536803757674, 99.52164947706427, 90.46561781119067, 91.57849254494361, 96.15786407278702, 83.84436994950967, 27.81482656930276, 48.9368470900437, 18.503509985385953, 14.879468477087547, 15.473941152164231, 9.373352607053862, 8.429864173735854, 7.546272419664451, 18.414920463159156, 7.51895979942708, 84.44155436104485, 18.26848656833318, 6.622128289059261, 19.541713824663223, 18.587130254335744, 23.146111999202628, 38.251971813159436, 4.77328867868247, 17.381566736920437, 10.238816773832225, 14.802706325018882, 7.0116767416615104, 4.66327291379155, 25.4795958824359, 10.014582060857427, 7.582398158918683, 4.540015041328782, 12.853649254073659, 19.425628383036607, 29.706978723474972, 46.82501087835086, 21.45040054139243, 52.99436840195871, 54.95528137360891, 16.31100829518609, 25.620730698223568, 83.62014229713965, 24.94167590234576, 28.633459492336428, 67.01241734256206, 33.33126174189975, 43.62737654411677, 49.3203792083079, 46.41828570415855, 34.85619603196485, 67.66899625921963, 32.10381351159168, 51.62302814445542, 31.177936996002853, 33.895493042174344, 35.04082063901769, 44.493279558925146, 35.22883442674129, 56.48861252778235, 47.16711951156346, 55.68778966133488, 39.64150536052196, 42.715660545385596, 38.014824047682495, 43.01510978367205, 42.90256178570254, 38.25715440917877, 34.06878160168522, 37.62879650451381, 34.846070732696965, 24.895381739117987, 17.608710471055954, 22.617152720693486, 12.988354717680904, 12.081651178952189, 17.25576125805932, 11.04391666973255, 28.504391307942175, 36.75187172723361, 17.292619041590758, 17.289973715259794, 6.5862018223720415, 15.531276371536126, 5.6697498607222, 16.069958421934793, 20.12573678235822, 5.62662761528912, 6.416436823858597, 14.343171489794257, 4.761534756745246, 5.547238482984916, 5.532508833757283, 35.5695081440242, 10.223530392476132, 22.866566967658514, 19.499373411737245, 10.913572827235203, 5.430408333634548, 101.16733937850336, 9.141628146127196, 29.60437781154306, 21.945570724591928, 28.494458626329234, 31.902747941397234, 82.24350507900964, 23.619992267391165, 32.82368814475606, 43.57399739685018, 25.757310222259758, 22.21335819721859, 63.5251554441681, 175.3023929205671, 50.03986268624484, 41.16101243435989, 86.65875331991818, 128.39237926387403, 39.910341717438556, 33.81578682770481, 65.01077528351234, 47.42060534620193, 40.20927959281336, 156.2942625971701, 38.83917469224595, 66.0476200298714, 93.49618556474623, 54.839090750251735, 32.98378789632136, 41.664568001741884, 29.989970407909535, 43.23305137556855, 57.377520893862304, 52.70114914664662, 42.22418118531045, 42.52715360132999, 36.82910800278623, 37.09681062937601, 36.744421287419755, 37.176157676027074], \"Total\": [328.0, 485.0, 803.0, 307.0, 298.0, 123.0, 199.0, 172.0, 93.0, 107.0, 120.0, 273.0, 167.0, 178.0, 282.0, 122.0, 153.0, 124.0, 117.0, 297.0, 86.0, 147.0, 105.0, 237.0, 97.0, 97.0, 127.0, 230.0, 142.0, 95.0, 36.02603912499987, 36.02588883819036, 33.10322172299766, 33.10319945151622, 35.05056255948613, 32.12853787483272, 27.257595896582234, 26.28338105769821, 24.33472332364594, 26.284575607309367, 22.386171312703567, 32.134917729304725, 20.437642353730435, 53.48541765786136, 21.413009212119377, 18.488977697815805, 24.319878358135647, 17.514841028502058, 18.489977886518652, 16.540707205667317, 16.540683839194855, 16.540152118252486, 15.566432075823181, 15.566368553159583, 15.566439385894094, 15.566408536159065, 16.541123102771515, 15.56612813002156, 35.96189057796926, 29.216873363902362, 60.4203024859526, 97.50813665440423, 85.71452146351683, 82.76557482881313, 58.48806964583604, 32.15043643449322, 124.77305109139078, 55.49593407027593, 37.8963918407653, 53.448753785668856, 29.18685535443567, 98.42108266493298, 34.10865925517126, 307.99715835781416, 167.834227125137, 178.1854227837813, 139.82171036116085, 103.42674442190594, 54.56223811623199, 68.76954856434932, 84.83647160041039, 64.26201397041544, 237.75277971425643, 90.51973633420369, 137.70593095628735, 91.7744400912997, 147.79376856176168, 70.06214294099415, 129.86657516906672, 73.99592681862177, 191.48072080434144, 803.8548070648293, 274.8542726057724, 186.07372334983492, 163.1589979967047, 306.43403590768935, 190.15544412730654, 123.89985251249685, 254.84946828941256, 162.71698521260242, 213.57338284403218, 283.01536045192023, 121.95636925526732, 161.53017716157902, 163.2099130129017, 234.12184367687414, 302.3464743334502, 268.51376419796014, 38.38900181276884, 42.21975114655717, 26.870239511488492, 39.32530511253748, 23.031355908186356, 22.06902387883875, 56.67664066614094, 52.835411858251334, 86.4680044990479, 18.221477632163285, 14.390064081926619, 17.26236150811233, 11.511442662430964, 18.23745719845576, 16.29290344655114, 78.46760127905368, 16.284197226960206, 26.80226895725759, 31.64526338081066, 19.147274411366574, 40.189557722273314, 8.63175043356374, 12.458169098970654, 7.671836647717207, 7.671950307157879, 20.18844642310027, 33.582287155475164, 27.758165731678794, 36.44648449277574, 18.179838892874393, 95.59958109020086, 96.93212392160397, 105.65758026062852, 117.78573708942234, 35.55944348942253, 85.0119273221592, 199.00113683933102, 101.02292341395629, 45.14381488359437, 54.901189630749776, 142.6626279152401, 37.27576952579078, 41.990975863697216, 120.33277045687886, 129.7781845158142, 84.83256378608148, 63.727084038071986, 62.84418723668016, 102.98876739202466, 59.70895018137997, 72.90815716856, 282.9442741244361, 230.321572697867, 209.32374748162178, 115.94033775080979, 128.99304695412945, 119.7157257981743, 485.52547392811994, 211.37539248235058, 138.53740854960478, 215.73422314818575, 114.9180153752055, 112.93575546782296, 99.90679935398616, 203.5790903421852, 253.4486972460468, 123.30539886857119, 172.80964183116575, 200.80538207395296, 74.18132611605121, 49.44169052826689, 47.462601199239394, 44.4935903601049, 40.535513996171325, 38.55638985076473, 35.58752782843545, 40.52408901130402, 33.60786999510343, 30.63965223281021, 27.67089434123129, 27.670809878218417, 28.65913593377028, 26.681481371686935, 25.691806203590613, 25.691678325478676, 24.702282074756543, 24.702154272987777, 23.71248703300202, 23.71193932275294, 51.34436129166905, 22.72241627183322, 21.733411082028468, 21.732251919217518, 81.93116365784128, 20.74359979320195, 20.74291137765737, 20.743329613458634, 19.754257834892847, 19.75431277254956, 66.10674015267458, 42.43698376216298, 74.9966722253302, 62.13038324129459, 40.45277924173401, 61.20732427285938, 45.37927277280925, 38.47958552212625, 78.0399664895097, 47.297256235347305, 63.02723087036462, 34.528652937106486, 108.34119862739145, 64.00922906655553, 43.340703141696366, 171.40817645781513, 96.50766365165023, 132.04188079153835, 217.90548917781638, 392.85663935368325, 99.38191347480658, 110.41190710132179, 297.0893859119428, 803.8548070648293, 190.95279899715104, 148.1289582730563, 84.3318674127211, 80.6543681191089, 91.54281280787262, 111.05863796939232, 55.26520309710706, 262.87614880789005, 256.0899824588552, 148.46972078147323, 268.51376419796014, 105.84498183835265, 283.01536045192023, 298.72403397416923, 265.61772341053467, 234.12184367687414, 485.52547392811994, 302.3464743334502, 254.84946828941256, 282.9442741244361, 273.1049196397214, 193.49518722056044, 215.73422314818575, 328.087663003433, 171.68266645156052, 28.58767119100287, 50.75235104005465, 19.38080581059398, 15.693304333758883, 16.633414863075203, 10.165631588135184, 9.245712123820622, 8.32222688895905, 20.348539793129625, 8.322341294361456, 93.52912134200899, 20.350673528278275, 7.401195317063834, 22.202972880525124, 21.263556998272577, 26.86417661430776, 44.46685073473463, 5.559156794388771, 20.429848324794317, 12.080566726948897, 17.616166085442206, 8.344571664079321, 5.563614525856894, 30.74006234011111, 12.097121988775967, 9.309062259927511, 5.575810965371229, 15.790102910241016, 24.236359627179457, 37.140658075135555, 59.64261324812848, 27.081082977874352, 68.97438698866306, 71.68275492289162, 20.46714171356445, 33.34760135025247, 120.99975166695648, 32.58028930812074, 39.89608051957487, 122.31078776847798, 52.49852760150617, 75.23212830270081, 89.45812584148688, 84.5614629460038, 57.49325835273573, 198.00621277778873, 57.79720640203336, 140.21994582812465, 57.243567658301515, 68.34216300022531, 74.72871037779427, 131.40907157119446, 82.9849645023584, 256.9778623927558, 171.68266645156052, 297.0893859119428, 117.36282478725462, 173.02514764709483, 153.03062002567162, 262.87614880789005, 306.43403590768935, 193.49518722056044, 99.64739691842242, 256.0899824588552, 217.96093203160206, 25.71990035695817, 18.37920616005881, 23.884995096222223, 13.795801363596595, 12.877393873437708, 18.39587213444217, 11.96555553731713, 31.301788527830123, 40.525553449448225, 19.305747619464793, 19.305381735642, 7.373665018594355, 17.516110794478667, 6.456504867903874, 18.386543136832007, 23.075914689335164, 6.45937095632742, 7.374057915469404, 16.593451639249764, 5.53881899517158, 6.462219526241364, 6.45720421674405, 41.58244844081579, 11.96305297031634, 26.87025406073884, 23.091351462145624, 12.931560935207873, 6.471692815484693, 123.04949327572996, 11.129093826135744, 36.08726596770423, 26.774612595552846, 35.19197255344375, 39.79154818535333, 107.51555928474964, 29.5737042969156, 42.54665994150674, 57.808559354593996, 33.291642037189234, 28.658975142612626, 97.16968285832584, 328.087663003433, 79.94285226747935, 64.56516799991914, 172.80964183116575, 298.72403397416923, 62.79076549191275, 50.551680739664945, 127.86759220361677, 82.87435176840478, 65.84647973719716, 485.52547392811994, 64.87874739797843, 153.03062002567162, 273.1049196397214, 119.84296064796649, 52.256274530525005, 81.49566812100728, 44.58064300425608, 112.63804601931182, 253.4486972460468, 203.5790903421852, 114.38793137157595, 173.02514764709483, 93.38657624530416, 103.89058589990499, 128.421143728321, 302.3464743334502], \"Category\": [\"Default\", \"Default\", \"Default\", \"Default\", \"Default\", \"Default\", \"Default\", \"Default\", \"Default\", \"Default\", \"Default\", \"Default\", \"Default\", \"Default\", \"Default\", \"Default\", \"Default\", \"Default\", \"Default\", \"Default\", \"Default\", \"Default\", \"Default\", \"Default\", \"Default\", \"Default\", \"Default\", \"Default\", \"Default\", \"Default\", \"Topic1\", \"Topic1\", \"Topic1\", \"Topic1\", \"Topic1\", \"Topic1\", \"Topic1\", \"Topic1\", \"Topic1\", \"Topic1\", \"Topic1\", \"Topic1\", \"Topic1\", \"Topic1\", \"Topic1\", \"Topic1\", \"Topic1\", \"Topic1\", \"Topic1\", \"Topic1\", \"Topic1\", \"Topic1\", \"Topic1\", \"Topic1\", \"Topic1\", \"Topic1\", \"Topic1\", \"Topic1\", \"Topic1\", \"Topic1\", \"Topic1\", \"Topic1\", \"Topic1\", \"Topic1\", \"Topic1\", \"Topic1\", \"Topic1\", \"Topic1\", \"Topic1\", \"Topic1\", \"Topic1\", \"Topic1\", \"Topic1\", \"Topic1\", \"Topic1\", \"Topic1\", \"Topic1\", \"Topic1\", \"Topic1\", \"Topic1\", \"Topic1\", \"Topic1\", \"Topic1\", \"Topic1\", \"Topic1\", \"Topic1\", \"Topic1\", \"Topic1\", \"Topic1\", \"Topic1\", \"Topic1\", \"Topic1\", \"Topic1\", \"Topic1\", \"Topic1\", \"Topic1\", \"Topic1\", \"Topic1\", \"Topic1\", \"Topic1\", \"Topic1\", \"Topic1\", \"Topic1\", \"Topic1\", \"Topic1\", \"Topic1\", \"Topic1\", \"Topic1\", \"Topic2\", \"Topic2\", \"Topic2\", \"Topic2\", \"Topic2\", \"Topic2\", \"Topic2\", \"Topic2\", \"Topic2\", \"Topic2\", \"Topic2\", \"Topic2\", \"Topic2\", \"Topic2\", \"Topic2\", \"Topic2\", \"Topic2\", \"Topic2\", \"Topic2\", \"Topic2\", \"Topic2\", \"Topic2\", \"Topic2\", \"Topic2\", \"Topic2\", \"Topic2\", \"Topic2\", \"Topic2\", \"Topic2\", \"Topic2\", \"Topic2\", \"Topic2\", \"Topic2\", \"Topic2\", \"Topic2\", \"Topic2\", \"Topic2\", \"Topic2\", \"Topic2\", \"Topic2\", \"Topic2\", \"Topic2\", \"Topic2\", \"Topic2\", \"Topic2\", \"Topic2\", \"Topic2\", \"Topic2\", \"Topic2\", \"Topic2\", \"Topic2\", \"Topic2\", \"Topic2\", \"Topic2\", \"Topic2\", \"Topic2\", \"Topic2\", \"Topic2\", \"Topic2\", \"Topic2\", \"Topic2\", \"Topic2\", \"Topic2\", \"Topic2\", \"Topic2\", \"Topic2\", \"Topic2\", \"Topic2\", \"Topic2\", \"Topic3\", \"Topic3\", \"Topic3\", \"Topic3\", \"Topic3\", \"Topic3\", \"Topic3\", \"Topic3\", \"Topic3\", \"Topic3\", \"Topic3\", \"Topic3\", \"Topic3\", \"Topic3\", \"Topic3\", \"Topic3\", \"Topic3\", \"Topic3\", \"Topic3\", \"Topic3\", \"Topic3\", \"Topic3\", \"Topic3\", \"Topic3\", \"Topic3\", \"Topic3\", \"Topic3\", \"Topic3\", \"Topic3\", \"Topic3\", \"Topic3\", \"Topic3\", \"Topic3\", \"Topic3\", \"Topic3\", \"Topic3\", \"Topic3\", \"Topic3\", \"Topic3\", \"Topic3\", \"Topic3\", \"Topic3\", \"Topic3\", \"Topic3\", \"Topic3\", \"Topic3\", \"Topic3\", \"Topic3\", \"Topic3\", \"Topic3\", \"Topic3\", \"Topic3\", \"Topic3\", \"Topic3\", \"Topic3\", \"Topic3\", \"Topic3\", \"Topic3\", \"Topic3\", \"Topic3\", \"Topic3\", \"Topic3\", \"Topic3\", \"Topic3\", \"Topic3\", \"Topic3\", \"Topic3\", \"Topic3\", \"Topic3\", \"Topic3\", \"Topic3\", \"Topic3\", \"Topic3\", \"Topic3\", \"Topic3\", \"Topic3\", \"Topic3\", \"Topic3\", \"Topic3\", \"Topic4\", \"Topic4\", \"Topic4\", \"Topic4\", \"Topic4\", \"Topic4\", \"Topic4\", \"Topic4\", \"Topic4\", \"Topic4\", \"Topic4\", \"Topic4\", \"Topic4\", \"Topic4\", \"Topic4\", \"Topic4\", \"Topic4\", \"Topic4\", \"Topic4\", \"Topic4\", \"Topic4\", \"Topic4\", \"Topic4\", \"Topic4\", \"Topic4\", \"Topic4\", \"Topic4\", \"Topic4\", \"Topic4\", \"Topic4\", \"Topic4\", \"Topic4\", \"Topic4\", \"Topic4\", \"Topic4\", \"Topic4\", \"Topic4\", \"Topic4\", \"Topic4\", \"Topic4\", \"Topic4\", \"Topic4\", \"Topic4\", \"Topic4\", \"Topic4\", \"Topic4\", \"Topic4\", \"Topic4\", \"Topic4\", \"Topic4\", \"Topic4\", \"Topic4\", \"Topic4\", \"Topic4\", \"Topic4\", \"Topic4\", \"Topic4\", \"Topic4\", \"Topic4\", \"Topic4\", \"Topic4\", \"Topic4\", \"Topic4\", \"Topic4\", \"Topic4\", \"Topic5\", \"Topic5\", \"Topic5\", \"Topic5\", \"Topic5\", \"Topic5\", \"Topic5\", \"Topic5\", \"Topic5\", \"Topic5\", \"Topic5\", \"Topic5\", \"Topic5\", \"Topic5\", \"Topic5\", \"Topic5\", \"Topic5\", \"Topic5\", \"Topic5\", \"Topic5\", \"Topic5\", \"Topic5\", \"Topic5\", \"Topic5\", \"Topic5\", \"Topic5\", \"Topic5\", \"Topic5\", \"Topic5\", \"Topic5\", \"Topic5\", \"Topic5\", \"Topic5\", \"Topic5\", \"Topic5\", \"Topic5\", \"Topic5\", \"Topic5\", \"Topic5\", \"Topic5\", \"Topic5\", \"Topic5\", \"Topic5\", \"Topic5\", \"Topic5\", \"Topic5\", \"Topic5\", \"Topic5\", \"Topic5\", \"Topic5\", \"Topic5\", \"Topic5\", \"Topic5\", \"Topic5\", \"Topic5\", \"Topic5\", \"Topic5\", \"Topic5\", \"Topic5\", \"Topic5\", \"Topic5\", \"Topic5\", \"Topic5\", \"Topic5\", \"Topic5\", \"Topic5\", \"Topic5\", \"Topic5\"], \"logprob\": [30.0, 29.0, 28.0, 27.0, 26.0, 25.0, 24.0, 23.0, 22.0, 21.0, 20.0, 19.0, 18.0, 17.0, 16.0, 15.0, 14.0, 13.0, 12.0, 11.0, 10.0, 9.0, 8.0, 7.0, 6.0, 5.0, 4.0, 3.0, 2.0, 1.0, -6.6963, -6.6965, -6.7828, -6.7829, -6.726, -6.8147, -6.9821, -7.0195, -7.0991, -7.0234, -7.1856, -6.8254, -7.2798, -6.3188, -7.2344, -7.3841, -7.1105, -7.4407, -7.3869, -7.5003, -7.5004, -7.5014, -7.5641, -7.5641, -7.5641, -7.5642, -7.5042, -7.565, -6.7285, -6.9362, -6.2126, -5.7587, -5.8906, -5.9323, -6.2719, -6.8586, -5.5703, -6.3422, -6.7057, -6.3818, -6.9581, -5.8285, -6.8147, -4.8025, -5.3559, -5.3018, -5.5275, -5.82, -6.3911, -6.1939, -6.0132, -6.262, -5.1844, -5.9919, -5.6492, -5.9992, -5.6387, -6.2238, -5.7689, -6.1997, -5.5336, -4.5548, -5.2958, -5.5709, -5.6749, -5.2707, -5.5804, -5.8544, -5.4282, -5.7196, -5.5976, -5.4516, -5.9235, -5.8542, -5.8616, -5.7851, -5.8054, -5.8271, -6.5177, -6.4254, -6.883, -6.5073, -7.0434, -7.0902, -6.1517, -6.2254, -5.7345, -7.2989, -7.5353, -7.3547, -7.7713, -7.3118, -7.4284, -5.8681, -7.4414, -6.9436, -6.7812, -7.286, -6.5457, -8.0842, -7.7185, -8.2122, -8.2128, -7.2457, -6.7381, -6.9297, -6.6602, -7.3561, -5.7021, -5.6999, -5.6231, -5.5183, -6.6978, -5.8646, -5.0665, -5.713, -6.4748, -6.2919, -5.4358, -6.6632, -6.5738, -5.6621, -5.6104, -5.9888, -6.2278, -6.2394, -5.8598, -6.2988, -6.1566, -5.1711, -5.329, -5.4161, -5.8465, -5.7738, -5.8323, -5.0126, -5.5358, -5.8129, -5.6213, -5.9382, -5.9481, -6.008, -5.6832, -5.587, -5.967, -5.9281, -5.9615, -6.2979, -6.7089, -6.7502, -6.816, -6.9108, -6.9618, -7.0437, -6.9148, -7.1024, -7.1969, -7.3015, -7.302, -7.2669, -7.3389, -7.3778, -7.3781, -7.4183, -7.4186, -7.4608, -7.4612, -6.6898, -7.5051, -7.5508, -7.5517, -6.2256, -7.5993, -7.5997, -7.6, -7.6499, -7.65, -6.4474, -6.8889, -6.332, -6.5165, -6.9397, -6.5338, -6.8279, -6.9901, -6.3248, -6.8014, -6.5332, -7.1028, -6.0289, -6.5257, -6.8927, -5.6314, -6.165, -5.8833, -5.443, -4.9316, -6.1617, -6.0721, -5.2691, -4.4395, -5.647, -5.8666, -6.3307, -6.387, -6.2917, -6.1661, -6.6821, -5.5926, -5.6659, -6.0212, -5.6523, -6.2525, -5.7298, -5.7608, -5.8204, -5.8885, -5.5912, -5.81, -5.9049, -5.9373, -5.9937, -6.0892, -6.0769, -6.0281, -6.1652, -6.3178, -5.7528, -6.7254, -6.9434, -6.9042, -7.4055, -7.5116, -7.6223, -6.7302, -7.6259, -5.2073, -6.7382, -7.753, -6.6708, -6.7209, -6.5015, -5.9992, -8.0803, -6.788, -7.3172, -6.9486, -7.6958, -8.1037, -6.4055, -7.3393, -7.6175, -8.1304, -7.0897, -6.6768, -6.252, -5.797, -6.5776, -5.6732, -5.6369, -6.8515, -6.4, -5.2171, -6.4268, -6.2888, -5.4385, -6.1369, -5.8677, -5.745, -5.8057, -6.0921, -5.4287, -6.1744, -5.6994, -6.2037, -6.1201, -6.0869, -5.848, -6.0815, -5.6093, -5.7897, -5.6236, -5.9635, -5.8888, -6.0054, -5.8818, -5.8844, -5.999, -6.115, -6.0156, -6.0924, -6.4228, -6.7691, -6.5188, -7.0734, -7.1458, -6.7893, -7.2356, -6.2874, -6.0333, -6.7872, -6.7873, -7.7525, -6.8946, -7.9023, -6.8605, -6.6355, -7.91, -7.7786, -6.9742, -8.0769, -7.9242, -7.9268, -6.066, -7.3128, -6.5078, -6.6671, -7.2475, -7.9454, -5.0207, -7.4246, -6.2495, -6.5489, -6.2878, -6.1748, -5.2278, -6.4754, -6.1463, -5.863, -6.3887, -6.5368, -5.486, -4.471, -5.7246, -5.92, -5.1755, -4.7824, -5.9508, -6.1165, -5.4629, -5.7784, -5.9434, -4.5857, -5.978, -5.4471, -5.0995, -5.6331, -6.1414, -5.9078, -6.2366, -5.8709, -5.5878, -5.6728, -5.8945, -5.8873, -6.0312, -6.0239, -6.0335, -6.0218], \"loglift\": [30.0, 29.0, 28.0, 27.0, 26.0, 25.0, 24.0, 23.0, 22.0, 21.0, 20.0, 19.0, 18.0, 17.0, 16.0, 15.0, 14.0, 13.0, 12.0, 11.0, 10.0, 9.0, 8.0, 7.0, 6.0, 5.0, 4.0, 3.0, 2.0, 1.0, 1.4528, 1.4527, 1.4509, 1.4508, 1.4506, 1.4489, 1.4459, 1.4449, 1.4424, 1.441, 1.4393, 1.438, 1.4362, 1.4352, 1.435, 1.432, 1.4315, 1.4296, 1.4293, 1.4272, 1.4271, 1.4262, 1.4242, 1.4241, 1.4241, 1.4241, 1.4233, 1.4232, 1.4224, 1.4224, 1.4195, 1.3947, 1.3918, 1.3851, 1.3926, 1.4044, 1.3365, 1.3749, 1.3928, 1.3728, 1.4015, 1.3156, 1.3891, 1.2008, 1.2545, 1.2488, 1.2655, 1.2745, 1.3429, 1.3087, 1.2794, 1.3084, 1.0777, 1.2359, 1.159, 1.2148, 1.0989, 1.2602, 1.098, 1.2296, 0.945, 0.4892, 0.8213, 0.9363, 0.9637, 0.7377, 0.9051, 1.0594, 0.7645, 0.9218, 0.7718, 0.6362, 1.0062, 0.7944, 0.7768, 0.4924, 0.2164, 0.3134, 1.5678, 1.5651, 1.5593, 1.5542, 1.5532, 1.549, 1.5443, 1.5408, 1.5391, 1.5319, 1.5316, 1.5301, 1.5188, 1.5181, 1.5142, 1.5026, 1.5018, 1.5013, 1.4976, 1.4952, 1.4941, 1.4937, 1.4925, 1.4836, 1.483, 1.4826, 1.4812, 1.4801, 1.4773, 1.4769, 1.4711, 1.4594, 1.4501, 1.4462, 1.4643, 1.426, 1.3736, 1.405, 1.4487, 1.4359, 1.337, 1.4518, 1.4221, 1.281, 1.2571, 1.3039, 1.3509, 1.3533, 1.2389, 1.345, 1.2876, 0.917, 0.9649, 0.9733, 1.1338, 1.0998, 1.1159, 0.5355, 0.8439, 0.9894, 0.738, 1.0509, 1.0585, 1.1211, 0.7341, 0.6112, 0.9517, 0.6531, 0.4695, 1.129, 1.1237, 1.1232, 1.122, 1.1204, 1.1194, 1.1176, 1.1166, 1.1162, 1.1142, 1.1115, 1.111, 1.111, 1.1105, 1.1093, 1.1091, 1.1082, 1.1078, 1.1065, 1.1062, 1.105, 1.1049, 1.1037, 1.1029, 1.1019, 1.1018, 1.1014, 1.1011, 1.1001, 1.1, 1.0947, 1.0965, 1.084, 1.0876, 1.0936, 1.0853, 1.0904, 1.0931, 1.0514, 1.0756, 1.0566, 1.0887, 1.0192, 1.0486, 1.0716, 0.9579, 0.9987, 0.967, 0.9063, 0.8283, 0.9727, 0.957, 0.7702, 0.6044, 0.8343, 0.8686, 0.9679, 0.9562, 0.9248, 0.8572, 1.0392, 0.5691, 0.5219, 0.7118, 0.4882, 0.8189, 0.358, 0.273, 0.3309, 0.389, -0.0431, 0.2118, 0.2878, 0.1509, 0.1298, 0.379, 0.2824, -0.0881, 0.4226, 2.0626, 2.0536, 2.0437, 2.0367, 2.0177, 2.0088, 1.9976, 1.9921, 1.9901, 1.9885, 1.9878, 1.9821, 1.9788, 1.9623, 1.9555, 1.941, 1.9394, 1.9376, 1.9284, 1.9246, 1.916, 1.916, 1.9135, 1.9023, 1.9011, 1.8848, 1.8845, 1.8842, 1.8687, 1.8667, 1.848, 1.8569, 1.8264, 1.8243, 1.863, 1.8264, 1.7205, 1.8228, 1.7583, 1.4883, 1.6357, 1.5451, 1.4946, 1.4902, 1.5896, 1.0163, 1.502, 1.0907, 1.4824, 1.3887, 1.3326, 1.007, 1.2332, 0.575, 0.798, 0.4157, 1.0046, 0.6911, 0.6973, 0.2799, 0.1239, 0.4691, 1.0167, 0.1722, 0.2566, 2.0633, 2.0531, 2.0414, 2.0356, 2.0321, 2.0319, 2.0157, 2.0023, 1.9982, 1.9858, 1.9856, 1.983, 1.9756, 1.966, 1.9612, 1.9591, 1.9579, 1.9568, 1.9502, 1.9447, 1.9432, 1.9413, 1.9397, 1.9388, 1.9346, 1.9268, 1.9262, 1.9205, 1.9001, 1.8992, 1.8979, 1.897, 1.8848, 1.8749, 1.8279, 1.8711, 1.8364, 1.8132, 1.8393, 1.8411, 1.6709, 1.4691, 1.6274, 1.6457, 1.4057, 1.2515, 1.6427, 1.6938, 1.4195, 1.5376, 1.6027, 0.9624, 1.5828, 1.2556, 1.024, 1.3141, 1.6358, 1.425, 1.6995, 1.1383, 0.6104, 0.7445, 1.0993, 0.6926, 1.1654, 1.0661, 0.8446, -0.0]}, \"token.table\": {\"Topic\": [1, 2, 3, 4, 5, 2, 3, 2, 3, 5, 1, 2, 3, 4, 5, 1, 2, 3, 4, 5, 5, 4, 1, 2, 3, 4, 5, 2, 5, 2, 3, 4, 5, 5, 2, 3, 5, 1, 2, 3, 4, 5, 2, 3, 3, 4, 5, 1, 2, 3, 4, 5, 1, 3, 4, 5, 4, 1, 2, 3, 4, 5, 1, 2, 3, 4, 2, 3, 5, 2, 4, 5, 1, 2, 4, 5, 1, 3, 4, 5, 1, 2, 2, 5, 3, 1, 5, 3, 4, 2, 3, 1, 3, 4, 1, 2, 3, 4, 5, 2, 5, 3, 2, 5, 1, 1, 2, 3, 4, 5, 1, 2, 5, 1, 2, 3, 5, 4, 3, 2, 3, 5, 3, 3, 4, 1, 3, 4, 3, 4, 3, 2, 4, 3, 4, 3, 1, 2, 3, 5, 2, 3, 4, 5, 2, 3, 4, 5, 1, 3, 4, 5, 4, 1, 2, 3, 4, 1, 1, 1, 2, 3, 4, 3, 4, 5, 1, 3, 4, 1, 2, 3, 4, 1, 2, 3, 4, 1, 1, 2, 1, 2, 3, 4, 5, 2, 3, 4, 2, 4, 5, 2, 3, 5, 2, 3, 4, 5, 2, 5, 2, 3, 5, 2, 5, 1, 2, 3, 4, 5, 1, 5, 2, 3, 4, 5, 2, 3, 4, 5, 5, 2, 3, 4, 3, 5, 3, 2, 4, 1, 2, 3, 4, 5, 1, 2, 3, 4, 5, 5, 3, 4, 3, 2, 5, 2, 3, 4, 5, 1, 2, 4, 2, 4, 1, 2, 4, 5, 1, 3, 4, 1, 2, 3, 4, 5, 1, 3, 4, 1, 3, 1, 1, 2, 3, 5, 1, 2, 3, 4, 5, 3, 5, 2, 1, 2, 4, 1, 1, 2, 4, 1, 4, 5, 1, 3, 4, 1, 4, 2, 3, 4, 5, 1, 2, 3, 4, 1, 2, 5, 1, 2, 5, 1, 2, 5, 1, 4, 1, 2, 3, 4, 3, 1, 2, 3, 4, 5, 1, 2, 3, 4, 5, 1, 3, 2, 3, 4, 5, 1, 3, 1, 3, 1, 1, 1, 5, 3, 4, 5, 1, 1, 2, 3, 4, 5, 1, 2, 3, 4, 5, 1, 2, 3, 4, 5, 1, 2, 3, 4, 1, 2, 4, 5, 2, 3, 4, 5, 2, 4, 2, 3, 4, 5, 2, 3, 4, 5, 2, 3, 4, 5, 2, 3, 4, 5, 2, 2, 4, 1, 2, 3, 4, 5, 1, 2, 3, 4, 5, 1, 3, 4, 5, 3, 2, 3, 4, 5, 3, 1, 3, 4, 5, 1, 2, 3, 4, 5, 2, 3, 4, 5, 2, 3, 5, 1, 2, 3, 1, 3, 4, 1, 3, 4, 5, 1, 2, 3, 4, 5, 1, 2, 3, 4, 5, 1, 2, 3, 4, 5, 1, 1, 2, 3, 4, 5, 1, 3, 4, 5, 1, 2, 3, 4, 5, 1, 2, 3, 4, 5, 1, 2, 3, 5, 2, 3, 2, 3, 5, 1, 2, 4, 1, 2, 3, 4, 5, 2, 4, 2, 3, 2, 4, 3, 4, 3, 4, 5, 2, 4, 5, 1, 2, 3, 4, 1, 2, 3, 4, 2, 3, 4, 1, 2, 3, 4, 5, 2, 3, 5, 1, 2, 3, 4, 5, 2, 4, 2, 1, 3, 4, 5, 3, 1, 3, 2, 4, 1, 2, 3, 4, 5, 1, 3, 1, 4, 2, 4, 1, 2, 3, 4, 5, 2, 3, 4, 5, 2, 3, 4, 5, 1, 2, 3, 4, 5, 3, 1, 1, 3, 4, 1, 2, 3, 4, 5, 2, 5, 2, 5, 1, 2, 3, 4, 5, 1, 2, 3, 4, 1, 1, 2, 3, 4, 5, 1, 2, 4, 5, 3, 2, 3, 4, 5, 2, 3, 4, 5, 1, 2, 4, 5, 3, 3, 1, 2, 3, 4, 5, 3, 4, 2, 3, 4, 5, 5, 2, 5, 1, 2, 3, 4, 5, 1, 2, 4, 5, 4, 2, 3, 4, 5, 1, 2, 4, 5, 4, 1, 2, 3, 4, 5, 2, 3, 4, 2, 3, 4, 5, 4, 5, 3, 5, 1, 2, 3, 1, 2, 3, 4, 5, 3, 1, 4, 4, 5, 3, 4, 1, 2, 5, 5, 3, 3, 1, 2, 3, 4, 5, 1, 3, 4, 5, 2, 3, 4, 5, 1, 2, 3, 4, 5, 3, 1, 3, 5, 1, 2, 3, 4, 5, 2, 3, 4, 5, 1, 3, 4, 1, 2, 1, 2, 3, 4, 5, 1, 2, 3, 4, 5, 2, 3, 4, 5, 1, 2, 4, 5, 5, 1, 2, 3, 4, 5, 2, 3, 4, 5, 1, 2, 3, 4, 5, 2, 3, 5, 1, 3, 2, 1, 2, 3, 4, 5, 1, 3, 4, 5, 3, 3, 4, 3, 4, 5, 1, 3, 1, 1, 2, 3, 4, 5, 2, 3, 4, 5, 2, 3, 5, 2, 4, 1, 2, 3, 4, 5, 1, 2, 3, 4, 5, 1, 1, 3, 5, 1, 3, 4, 5, 1, 1, 2, 3, 4, 5, 2, 2, 4, 5, 3, 4, 5, 2, 4, 4, 5, 1, 2, 3, 4, 5, 1, 3, 4, 5, 2, 5, 3, 5, 1, 3, 3, 2, 3, 4, 5, 4, 2, 4, 5, 2, 3, 4, 5, 1, 2, 3, 4, 5, 1, 2, 3, 4, 5, 2, 4, 1, 2, 3, 5, 2, 3, 5, 5, 1, 1, 2, 3, 4, 5, 1, 3, 1, 2, 4, 5, 1, 2, 3, 4, 5, 1, 2, 3, 4, 5, 1, 3, 4, 2, 3, 5, 1, 1, 3, 4, 1, 2, 3, 4, 5, 1, 2, 3, 4, 5, 3, 3, 1, 1, 3, 4, 2, 5, 1, 2, 3, 4, 5], \"Freq\": [0.003534264840999079, 0.5124684019448664, 0.3710978083049033, 0.021205589045994473, 0.09542515070697513, 0.784595761044533, 0.20399489787157857, 0.7166073431137221, 0.1926363825574522, 0.09246546362757704, 0.008701855812032743, 0.5830243394061937, 0.21754639530081857, 0.05221113487219645, 0.1479315488045566, 0.017484361995350993, 0.17484361995350992, 0.3933981448953973, 0.04371090498837748, 0.36717160190237086, 0.9291947100637636, 0.9794431946877918, 0.01564117979804604, 0.21897651717264457, 0.08602648888925322, 0.17987356767752946, 0.5083383434364963, 0.0773301850418822, 0.8506320354607041, 0.281563514281084, 0.3120028131222823, 0.334832287253181, 0.0684884223926961, 0.9292953575899525, 0.15413367860908475, 0.2312005179136271, 0.6011213465754305, 0.010035385077029784, 0.371309247850102, 0.20070770154059567, 0.34120309261901266, 0.07024769553920848, 0.9527734771383515, 0.035287906560679684, 0.9730777290328778, 0.08359070234674025, 0.8359070234674024, 0.03804072771664044, 0.15216291086656175, 0.5668068429779426, 0.1635751291815539, 0.08368960097660898, 0.9700272268753699, 0.39794310887646706, 0.5536599775672585, 0.034603748597953655, 0.8967305439608115, 0.06005597255439059, 0.6305877118211012, 0.18016791766317175, 0.06005597255439059, 0.06005597255439059, 0.20872012378176508, 0.05218003094544127, 0.1391467491878434, 0.6087670276968148, 0.9329649517552178, 0.08985457536997161, 0.8086911783297446, 0.13525529165506606, 0.033813822913766514, 0.8115317499303963, 0.10859057916849094, 0.6264841105874477, 0.10859057916849094, 0.15870930801548677, 0.6618248394745205, 0.29055724659857, 0.024213103883214168, 0.03228413851095222, 0.9715235662110067, 0.9555709325556456, 0.8800958080146253, 0.05500598800091408, 0.9870672228767974, 0.9454452881525884, 0.027807214357429073, 0.9530041846640825, 0.030254101100447066, 0.8560834531293221, 0.12750179089160116, 0.8403097983337434, 0.10892904793215193, 0.03112258512347198, 0.13292865408738855, 0.03467704019671006, 0.3409908952676489, 0.24851878807642208, 0.24851878807642208, 0.9662989235876278, 0.025428919041779678, 0.9618179614138392, 0.0638941125751271, 0.9264646323393431, 0.9735003530276852, 0.1098776430133392, 0.5398336374133622, 0.1289867983200069, 0.14809595362667458, 0.07165933240000383, 0.04333522694388202, 0.04333522694388202, 0.8667045388776403, 0.6006410998060879, 0.09193486221521753, 0.30032054990304397, 0.006128990814347836, 0.9558216473080515, 0.971575180641002, 0.12149472579140387, 0.27336313303065873, 0.6074736289570194, 0.9791233846928182, 0.1626541919362265, 0.8132709596811325, 0.09789597887384881, 0.048947989436924404, 0.8321158204277149, 0.18463072559118388, 0.7754490474829723, 0.977000844153379, 0.1116728810665357, 0.8561587548434404, 0.9557279880019962, 0.028961454181878673, 0.9699530870797984, 0.06424803731573575, 0.08719376492849852, 0.7939221754015918, 0.055069746270630646, 0.09401443040415418, 0.04700721520207709, 0.07051082280311563, 0.775619050834272, 0.104679249173127, 0.034893083057709, 0.069786166115418, 0.767647827269598, 0.15436913612108952, 0.1234953088968716, 0.07203893018984177, 0.6586416474499819, 0.8853360385895106, 0.9182561730187146, 0.048329272264142874, 0.024164636132071437, 0.8986963379224969, 0.9636119521118183, 0.9666732823702406, 0.05024372377820737, 0.7871516725252488, 0.133983263408553, 0.03349581585213825, 0.9699754915419426, 0.0418672893158, 0.9629476542633999, 0.9673429775983491, 0.16532857995940303, 0.8266428997970151, 0.18181855497152996, 0.024793439314299538, 0.09917375725719815, 0.6942163008003871, 0.09771760160699501, 0.09771760160699501, 0.048858800803497505, 0.7817408128559601, 0.967286193361269, 0.9250739647050287, 0.034261998692778836, 0.585789320693446, 0.05374213951316018, 0.295581767322381, 0.04836792556184417, 0.016122641853948055, 0.05402551399607112, 0.7563571959449956, 0.1890892989862489, 0.060264737062578545, 0.060264737062578545, 0.8437063188760997, 0.026667849927939843, 0.9467086724418644, 0.026667849927939843, 0.5485882895866888, 0.20211147511088534, 0.151583606333164, 0.09383747058719677, 0.9327568512900262, 0.0746205481032021, 0.9515599835902212, 0.9889064839202664, 0.9284735647923421, 0.9268108550604941, 0.9493243837830883, 0.07762613232457259, 0.6382593102242635, 0.025875377441524197, 0.043125629069207, 0.21562814534603497, 0.9535309292383164, 0.018696684887025812, 0.15686397205650485, 0.26546210655716207, 0.012066459388961911, 0.5671235912812098, 0.2456422548185366, 0.7274789854241276, 0.009447779031482176, 0.018895558062964352, 0.9720099865486683, 0.12666161907677348, 0.06333080953838674, 0.8233005239990276, 0.9615488186255159, 0.025987805908797727, 0.9662542120396862, 0.11983838598986167, 0.8388687019290316, 0.0380963065322735, 0.05714445979841025, 0.1904815326613675, 0.6285890577825127, 0.076192613064547, 0.2844418814196351, 0.09922391212312853, 0.39689564849251413, 0.09591644838569091, 0.12237615828519186, 0.9318655713989215, 0.9496159032346996, 0.04828555440176439, 0.971570154019324, 0.054360021242359204, 0.9241203611201064, 0.26138559716538956, 0.058811759362212654, 0.2483163173071201, 0.4312862353228928, 0.3345434421872317, 0.18734432762484976, 0.4683608190621244, 0.1135320812882649, 0.8514906096619869, 0.010050193841931437, 0.8090406042754807, 0.05527606613062291, 0.12562742302414298, 0.8735860752508351, 0.104189164938173, 0.01602910229818046, 0.7969226538374555, 0.01683639409515751, 0.1403032841263126, 0.01683639409515751, 0.028060656825262518, 0.8135634681914454, 0.12845738971443876, 0.05709217320641723, 0.9088601157871676, 0.05863613650239791, 0.9862450326969328, 0.031085614203952408, 0.07253309980922229, 0.8703971977106674, 0.020723742802634938, 0.01182571782891864, 0.3429458170386405, 0.08278002480243048, 0.5439830201302573, 0.02365143565783728, 0.9640870350822468, 0.02472018038672428, 0.9676132581134449, 0.061386809094463556, 0.1534670227361589, 0.7673351136807944, 0.9827495596585368, 0.10410989890991248, 0.8707373363374499, 0.018929072529074997, 0.0746976260762851, 0.0746976260762851, 0.8216738868391362, 0.853475675389302, 0.121925096484186, 0.020320849414031, 0.019703520713962246, 0.96547251498415, 0.3284858119223441, 0.22194987292050278, 0.07102395933456089, 0.38175378142326477, 0.0641511425950398, 0.010691857099173302, 0.021383714198346605, 0.8981159963305574, 0.964874284686427, 0.057090298853054444, 0.9134447816488711, 0.9735530159748329, 0.23252448451473648, 0.7626803092083356, 0.945728414480572, 0.9211384381396411, 0.06140922920930941, 0.980712229279497, 0.9457931726056658, 0.07646695338815288, 0.1092385048402184, 0.8083649358176161, 0.010923850484021839, 0.9682068903592471, 0.0202013863296753, 0.2222152496264283, 0.2676683688681977, 0.3434235676044801, 0.15151039747256476, 0.47971172511751436, 0.08158362672066571, 0.2186441196113841, 0.140323837959545, 0.08158362672066571, 0.6901508838471435, 0.3112445162447902, 0.2050494003325715, 0.36615964345102053, 0.08787831442824492, 0.34052846840944906, 0.9331133050440931, 0.06220755366960621, 0.9646827249142212, 0.031118797577878103, 0.9715195133875303, 0.9785864560032995, 0.9673118811500617, 0.9288830198121022, 0.2769443032388638, 0.05934520783689939, 0.6725790221515264, 0.9673105146627554, 0.21104699622650944, 0.29363060344557834, 0.25692677801488106, 0.16057923625930065, 0.07799562904023175, 0.31283312515060313, 0.08938089290017232, 0.5213885419176718, 0.04469044645008616, 0.03351783483756462, 0.3758726593724171, 0.06834048352225766, 0.4741121044356625, 0.06834048352225766, 0.017085120880564415, 0.843396549938495, 0.043623959479577326, 0.014541319826525775, 0.08724791895915465, 0.01250893571640549, 0.2626876500445153, 0.08756255001483843, 0.6254467858202745, 0.05542121150961868, 0.08313181726442802, 0.02771060575480934, 0.8313181726442802, 0.9175761566094903, 0.07646467971745752, 0.8769022751296118, 0.06189898412679613, 0.030949492063398067, 0.020632994708932043, 0.12015027662293447, 0.030037569155733617, 0.060075138311467234, 0.780976798049074, 0.08524671344989532, 0.08524671344989532, 0.028415571149965107, 0.7956359921990229, 0.12532559426600234, 0.025065118853200466, 0.7268884467428135, 0.12532559426600234, 0.912428186552028, 0.900635879245758, 0.07205087033966064, 0.07479259362041484, 0.7396156480241022, 0.13296461088073747, 0.016620576360092183, 0.033241152720184367, 0.12251457564025986, 0.01166805482288189, 0.8342659198360551, 0.02333610964576378, 0.005834027411440945, 0.01592590872504647, 0.27074044832579, 0.07962954362523235, 0.6370363490018588, 0.9641528085474519, 0.007573354711440032, 0.8406423729698436, 0.053013482980080226, 0.09845361124872042, 0.9840751550571756, 0.7843593328405666, 0.1546624036587033, 0.011047314547050234, 0.044189258188200936, 0.590137740892805, 0.010444915768014248, 0.28723518362039185, 0.06266949460808549, 0.04700212095606412, 0.1463225563985593, 0.33654187971668637, 0.4974966917551016, 0.014632255639855929, 0.9268720268939395, 0.973816768621734, 0.01947633537243468, 0.03618913688755978, 0.054283705331339666, 0.9047284221889944, 0.016337913997711236, 0.9475990118672517, 0.016337913997711236, 0.4962933838068829, 0.4411496744950071, 0.04901663049944523, 0.018381236437291962, 0.6231736846882029, 0.008199653745897408, 0.20499134364743518, 0.10659549869666629, 0.057397576221281846, 0.08435262992491926, 0.40971277392103644, 0.036151127110679686, 0.4217631496245963, 0.048201502814239586, 0.5076450818101635, 0.04333555576428226, 0.2662041282663053, 0.14857904833468202, 0.037144762083670506, 0.9636134092945486, 0.6729679467566951, 0.00841209933445869, 0.20189038402700854, 0.050472596006752135, 0.06729679467566951, 0.8043651304768971, 0.1787478067726438, 0.005958260225754793, 0.011916520451509587, 0.015573759444403201, 0.46721278333209604, 0.18688511333283842, 0.038934398611008, 0.2881145497214592, 0.6853187579955459, 0.12320337222391836, 0.10780295069592856, 0.046201264583969386, 0.038501053819974485, 0.9216641317145453, 0.02333326915733026, 0.04666653831466052, 0.01166663457866513, 0.9463350098252612, 0.03785340039301045, 0.8933280768254309, 0.0595552051216954, 0.0297776025608477, 0.031600305801417, 0.9164088682410929, 0.031600305801417, 0.431072008972198, 0.021200262736337606, 0.45933902595398146, 0.08126767382262749, 0.003533377122722934, 0.8573270627683449, 0.14288784379472416, 0.8915990672468893, 0.049533281513716075, 0.9711094662229757, 0.9612811699009862, 0.9475691736022072, 0.044072984818707306, 0.04503901371140841, 0.9007802742281681, 0.04503901371140841, 0.8314944485995287, 0.059392460614252046, 0.09898743435708675, 0.030186579178318025, 0.08049754447551474, 0.8452242169929047, 0.030186579178318025, 0.04992157113354107, 0.07131653019077296, 0.5134790173735653, 0.3708459569920194, 0.041260321904060496, 0.12378096571218149, 0.7839461161771494, 0.1705468775426652, 0.15504261594787747, 0.4651278478436324, 0.19638731353397812, 0.010336174396525165, 0.5271464234042358, 0.4298270836988384, 0.03243977990179912, 0.007752355833222583, 0.612436110824584, 0.16279947249767424, 0.03100942333289033, 0.18605653999734198, 0.9206371529561361, 0.07464625564509213, 0.9552194880623694, 0.031245494269591022, 0.9061193338181396, 0.015622747134795511, 0.031245494269591022, 0.9855694515768132, 0.922999896090568, 0.07178888080704417, 0.1349319751873768, 0.8545691761867197, 0.11454560135227125, 0.12981834819924076, 0.733091848654536, 0.010181831231313, 0.01272728903914125, 0.7597472692528925, 0.23701517374128697, 0.20119842754167966, 0.7880271745382453, 0.04914357541948218, 0.8845843575506792, 0.02317666583926996, 0.42645065144256733, 0.42645065144256733, 0.11124799602849582, 0.013905999503561977, 0.14878301423524415, 0.8307051628134464, 0.012398584519603678, 0.012398584519603678, 0.019136457946611934, 0.21050103741273127, 0.13395520562628355, 0.6315031122381938, 0.49048562211653235, 0.007847769953864518, 0.4277034624856162, 0.05101050470011936, 0.023543309861593552, 0.9663057504606783, 0.9538625526127225, 0.14491190687719274, 0.8332434645438583, 0.018113988359649093, 0.07700408974214204, 0.3368928926218714, 0.1251316458309808, 0.1058806233954453, 0.3561439150574069, 0.07402736655385138, 0.9130041874975003, 0.17591675416581543, 0.8041908761865848, 0.24094777704679965, 0.14682755163789354, 0.44424746393003683, 0.12423869753975607, 0.04141289917991869, 0.8980564858907931, 0.018709510122724857, 0.018709510122724857, 0.03741902024544971, 0.9892182418587577, 0.567956392180365, 0.08414168773042445, 0.1682833754608489, 0.07362397676412138, 0.10517710966303057, 0.023526110547062967, 0.8469399796942668, 0.058815276367657425, 0.058815276367657425, 0.9910664355618187, 0.9124146689882814, 0.9302865219297198, 0.021142875498402724, 0.021142875498402724, 0.059289568147826543, 0.841911867699137, 0.047431654518261236, 0.047431654518261236, 0.14621412750335688, 0.026584386818792157, 0.5848565100134275, 0.23925948136912942, 0.9641653665390175, 0.9730728856465558, 0.013463961318313804, 0.06731980659156901, 0.6900280175635825, 0.18849545845639323, 0.03702589362536296, 0.08277757348661761, 0.8277757348661762, 0.272658740602119, 0.23857639802685413, 0.34082342575264873, 0.15337054158869193, 0.81366325960271, 0.8878548264764061, 0.052226754498612124, 0.047151704740253084, 0.7544272758440493, 0.011787926185063271, 0.10609133566556943, 0.08251548329544289, 0.015912370641915655, 0.7956185320957828, 0.06364948256766262, 0.12729896513532524, 0.8652659625199476, 0.5383777062110533, 0.2170877847625215, 0.09117686960025903, 0.15196144933376504, 0.010460296882017425, 0.8891252349714811, 0.010460296882017425, 0.0836823750561394, 0.8994169772377771, 0.00885459167344849, 0.5932576421210489, 0.07969132506103642, 0.15938265012207284, 0.15938265012207284, 0.8639057222027756, 0.08860571509772057, 0.044302857548860285, 0.32867644939762325, 0.4133355348485262, 0.14939838608982875, 0.10955881646587441, 0.05179902752991302, 0.8805834680085213, 0.9459929587657181, 0.046145997988571615, 0.11248769967926622, 0.8717796725143133, 0.9819128675756008, 0.05486354552553291, 0.7406578645946943, 0.10972709105106582, 0.05486354552553291, 0.04114765914414968, 0.9902533534287875, 0.060119945797775826, 0.9017991869666374, 0.10877520505709368, 0.8702016404567494, 0.10742220559687038, 0.859377644774963, 0.05487497704741403, 0.9054371212823314, 0.027437488523707015, 0.9793676529466822, 0.9867890167564692, 0.9641848068416482, 0.03883918704235075, 0.7088151635229013, 0.05825878056352613, 0.155356748169403, 0.04854898380293844, 0.15488227336468052, 0.13939404602821248, 0.06195290934587221, 0.6350173207951901, 0.9483276557041733, 0.034694914233079514, 0.0517980458312716, 0.8805667791316173, 0.4963165287193555, 0.01872892561205115, 0.28093388418076726, 0.10300909086628132, 0.09832685946326854, 0.9618152865536407, 0.8218377217140451, 0.16436754434280904, 0.009668679078988766, 0.3732017241962025, 0.01741608046248945, 0.585926706988038, 0.0037320172419620253, 0.0199040919571308, 0.8659792137868281, 0.05093995375216636, 0.008489992292027727, 0.07640993062824954, 0.9235707754728872, 0.02638773644208249, 0.05277547288416498, 0.054832205450476616, 0.9321474926581025, 0.17474099523299497, 0.040772898887698826, 0.4892747866523859, 0.2737608925316921, 0.017474099523299494, 0.011178414376486328, 0.10060572938837696, 0.25710353065918556, 0.5477423044478301, 0.08942731501189062, 0.05840977193948168, 0.33377012536846673, 0.14185230328159837, 0.45893392238164177, 0.13497649940935338, 0.26995299881870677, 0.07362354513237458, 0.5153648159266221, 0.9027195155427012, 0.009824191652680572, 0.4273523368916049, 0.2161322163589726, 0.08841772487412515, 0.2603410787960352, 0.4176189080704313, 0.11778994843012165, 0.06424906278006635, 0.3962025538104092, 0.016253622398252298, 0.0487608671947569, 0.07314130079213534, 0.04063405599563075, 0.8208079311117411, 0.8852935947349816, 0.026827078628332775, 0.1073083145133311, 0.943391503431354, 0.0496521843911239, 0.9728935132112077, 0.3453571352024591, 0.47309196603076586, 0.10881115218707614, 0.05204011626338424, 0.014192758980922976, 0.7838269279627937, 0.1621710885440263, 0.04054277213600657, 0.013514257378668857, 0.9834906253879766, 0.9642240689991621, 0.024410735924029422, 0.9661384095953539, 0.023564351453545216, 0.023564351453545216, 0.07688368242452454, 0.9097902420235403, 0.9636114995952518, 0.008238496669676664, 0.34807648429383903, 0.3068840009454557, 0.014417369171934162, 0.3213013701173899, 0.121918634897227, 0.2926047237533448, 0.048767453958890795, 0.5333940276753681, 0.051895429214870975, 0.1902832404545269, 0.7611329618181076, 0.04913842279521855, 0.884491610313934, 0.1116028535539059, 0.013950356694238237, 0.05580142677695295, 0.767269618183103, 0.05580142677695295, 0.014498135375445446, 0.11598508300356357, 0.10148694762811812, 0.7684011748986087, 0.014498135375445446, 0.9636307676968366, 0.8797293083496193, 0.091638469619752, 0.0183276939239504, 0.773635883034179, 0.0762739602991444, 0.02179256008546983, 0.1416516405555539, 0.9636158843839898, 0.021028632682852193, 0.7780594092655312, 0.08411453073140877, 0.05607635382093919, 0.06308589804855659, 0.9898668422100142, 0.39349656234132874, 0.10416085473741055, 0.5034441312308177, 0.08996149283694396, 0.7796662712535143, 0.1499358213949066, 0.4367302916762645, 0.5415455616785679, 0.9612679553793536, 0.9193054150886819, 0.8081720621791844, 0.014303930304056361, 0.10012751212839453, 0.050063756064197266, 0.028607860608112722, 0.0672937803905967, 0.11215630065099451, 0.1570188209113923, 0.672937803905967, 0.12991877088346232, 0.822818882261928, 0.11164762317537649, 0.8559651110112197, 0.9583503221324902, 0.03422679721901751, 0.9757545118362287, 0.026924671016248552, 0.10769868406499421, 0.8077401304874565, 0.053849342032497104, 0.9803513943478128, 0.04702882025247416, 0.893547584797009, 0.04702882025247416, 0.11046985259596998, 0.42179398263915807, 0.03682328419865666, 0.428489125220732, 0.024527681120644063, 0.08175893706881354, 0.34338753568901687, 0.5477848783610507, 0.7725953846320699, 0.24857101529640097, 0.3748293087802872, 0.07891143342742889, 0.071020290084686, 0.2248975852681723, 0.8829547835330688, 0.08026861668482443, 0.825116823925777, 0.02357476639787934, 0.14144859838727605, 0.01178738319893967, 0.09619443178516031, 0.048097215892580154, 0.8657498860664428, 0.9423156841257152, 0.9666739327377708, 0.033754372259765415, 0.162020986846874, 0.7628488130706983, 0.033754372259765415, 0.013501748903906166, 0.9232652116403783, 0.06839001567706506, 0.5776901524888853, 0.30113635608463174, 0.030728199600472628, 0.09218459880141788, 0.5202757033546539, 0.09459558242811889, 0.2364889560702972, 0.10551045732367106, 0.04729779121405944, 0.11521171784619001, 0.052368962657359096, 0.7384023734687633, 0.06284275518883091, 0.031421377594415455, 0.7261851345512742, 0.2469029457474332, 0.021785554036538226, 0.08307089190468461, 0.8860895136499692, 0.02769029730156154, 0.9706054409706458, 0.9009669057319355, 0.07207735245855484, 0.01801933811463871, 0.28407116208488575, 0.2257003753551147, 0.16732958862534367, 0.21791760379114522, 0.10506741611358787, 0.10933656885426446, 0.17962436311772018, 0.5388730893531605, 0.14838534344507318, 0.02342926475448524, 0.9744586381020774, 0.9757574902516151, 0.9511281587155569, 0.015866157947773643, 0.9202371609708714, 0.06346463179109457, 0.9206462217865276, 0.0613764147857685, 0.0673538008111338, 0.20879678251451478, 0.6533318678679978, 0.06061842073002042, 0.01347076016222676], \"Term\": [\"000\", \"000\", \"000\", \"000\", \"000\", \"1959\", \"1959\", \"1960\", \"1960\", \"1960\", \"1961\", \"1961\", \"1961\", \"1961\", \"1961\", \"30\", \"30\", \"30\", \"30\", \"30\", \"62\", \"academic\", \"act\", \"act\", \"act\", \"act\", \"act\", \"adjustments\", \"adjustments\", \"administration\", \"administration\", \"administration\", \"administration\", \"adopting\", \"agreement\", \"agreement\", \"agreement\", \"aid\", \"aid\", \"aid\", \"aid\", \"aid\", \"aircraft\", \"aircraft\", \"alexander\", \"allocation\", \"allocation\", \"american\", \"american\", \"american\", \"american\", \"american\", \"anne\", \"anti\", \"anti\", \"anti\", \"appearances\", \"areas\", \"areas\", \"areas\", \"areas\", \"areas\", \"art\", \"art\", \"art\", \"art\", \"assessment\", \"assigned\", \"assigned\", \"authorized\", \"authorized\", \"authorized\", \"available\", \"available\", \"available\", \"available\", \"away\", \"away\", \"away\", \"away\", \"baby\", \"bankers\", \"banks\", \"banks\", \"baseball\", \"bed\", \"bed\", \"berlin\", \"berlin\", \"billion\", \"billion\", \"black\", \"black\", \"black\", \"board\", \"board\", \"board\", \"board\", \"board\", \"boats\", \"boats\", \"bombs\", \"bonds\", \"bonds\", \"bride\", \"business\", \"business\", \"business\", \"business\", \"business\", \"calendar\", \"calendar\", \"calendar\", \"came\", \"came\", \"came\", \"came\", \"campus\", \"captain\", \"cars\", \"cars\", \"cars\", \"castro\", \"catholic\", \"catholic\", \"cattle\", \"cattle\", \"cattle\", \"chamber\", \"chamber\", \"charter\", \"chemical\", \"chemical\", \"china\", \"china\", \"chinese\", \"city\", \"city\", \"city\", \"city\", \"claim\", \"claim\", \"claim\", \"claim\", \"claims\", \"claims\", \"claims\", \"claims\", \"class\", \"class\", \"class\", \"class\", \"classical\", \"clay\", \"clay\", \"clay\", \"clerical\", \"cloth\", \"clothes\", \"co\", \"co\", \"co\", \"co\", \"coach\", \"coal\", \"coal\", \"coat\", \"collective\", \"collective\", \"college\", \"college\", \"college\", \"college\", \"colleges\", \"colleges\", \"colleges\", \"colleges\", \"colored\", \"colors\", \"colors\", \"come\", \"come\", \"come\", \"come\", \"come\", \"committee\", \"committee\", \"committee\", \"commodities\", \"commodities\", \"commodities\", \"communist\", \"communist\", \"communist\", \"company\", \"company\", \"company\", \"company\", \"compared\", \"compared\", \"components\", \"congo\", \"connections\", \"conservation\", \"coordination\", \"cost\", \"cost\", \"cost\", \"cost\", \"cost\", \"couldn\", \"couldn\", \"countries\", \"countries\", \"countries\", \"countries\", \"county\", \"county\", \"county\", \"county\", \"cousin\", \"creative\", \"creative\", \"creative\", \"cuba\", \"cuba\", \"cuban\", \"curriculum\", \"curriculum\", \"daily\", \"daily\", \"daily\", \"daily\", \"daily\", \"day\", \"day\", \"day\", \"day\", \"day\", \"definition\", \"democratic\", \"democratic\", \"democrats\", \"denied\", \"denied\", \"department\", \"department\", \"department\", \"department\", \"design\", \"design\", \"design\", \"designer\", \"designer\", \"development\", \"development\", \"development\", \"development\", \"didn\", \"didn\", \"didn\", \"don\", \"don\", \"don\", \"don\", \"don\", \"door\", \"door\", \"door\", \"drill\", \"drill\", \"dry\", \"east\", \"east\", \"east\", \"east\", \"education\", \"education\", \"education\", \"education\", \"education\", \"eisenhower\", \"eisenhower\", \"electronic\", \"engineer\", \"engineer\", \"engineer\", \"entrance\", \"equipment\", \"equipment\", \"equipment\", \"exercise\", \"exercise\", \"exercise\", \"eyes\", \"eyes\", \"eyes\", \"faculty\", \"faculty\", \"federal\", \"federal\", \"federal\", \"federal\", \"feed\", \"feed\", \"feed\", \"feed\", \"fig\", \"filing\", \"filing\", \"fingers\", \"fiscal\", \"fiscal\", \"flowers\", \"forests\", \"forests\", \"frames\", \"fulfill\", \"game\", \"game\", \"game\", \"game\", \"gen\", \"general\", \"general\", \"general\", \"general\", \"general\", \"good\", \"good\", \"good\", \"good\", \"good\", \"got\", \"got\", \"government\", \"government\", \"government\", \"government\", \"guests\", \"guests\", \"hadn\", \"hadn\", \"hair\", \"ham\", \"handsome\", \"hated\", \"hearing\", \"hearing\", \"hearing\", \"hell\", \"high\", \"high\", \"high\", \"high\", \"high\", \"home\", \"home\", \"home\", \"home\", \"home\", \"house\", \"house\", \"house\", \"house\", \"house\", \"inch\", \"inch\", \"inch\", \"inch\", \"income\", \"income\", \"income\", \"income\", \"india\", \"india\", \"india\", \"india\", \"industrial\", \"industrial\", \"industry\", \"industry\", \"industry\", \"industry\", \"insurance\", \"insurance\", \"insurance\", \"insurance\", \"interference\", \"interference\", \"interference\", \"interference\", \"interior\", \"interior\", \"interior\", \"interior\", \"inventories\", \"investment\", \"investment\", \"island\", \"island\", \"island\", \"island\", \"island\", \"john\", \"john\", \"john\", \"john\", \"john\", \"junior\", \"junior\", \"junior\", \"junior\", \"katanga\", \"kennedy\", \"kennedy\", \"kennedy\", \"kennedy\", \"khrushchev\", \"knew\", \"knew\", \"knew\", \"knew\", \"know\", \"know\", \"know\", \"know\", \"know\", \"labor\", \"labor\", \"labor\", \"labor\", \"laboratory\", \"laos\", \"laos\", \"leaders\", \"leaders\", \"leaders\", \"league\", \"league\", \"league\", \"left\", \"left\", \"left\", \"left\", \"let\", \"let\", \"let\", \"let\", \"let\", \"level\", \"level\", \"level\", \"level\", \"level\", \"life\", \"life\", \"life\", \"life\", \"life\", \"liked\", \"little\", \"little\", \"little\", \"little\", \"little\", \"ll\", \"ll\", \"ll\", \"ll\", \"local\", \"local\", \"local\", \"local\", \"local\", \"look\", \"look\", \"look\", \"look\", \"look\", \"looked\", \"looked\", \"looked\", \"looked\", \"machine\", \"machine\", \"machinery\", \"machinery\", \"machinery\", \"machines\", \"machines\", \"machines\", \"man\", \"man\", \"man\", \"man\", \"man\", \"manufacturers\", \"manufacturers\", \"manufacturing\", \"manufacturing\", \"marketing\", \"mathematics\", \"mayor\", \"mayor\", \"meat\", \"meat\", \"meat\", \"medical\", \"medical\", \"medical\", \"meeting\", \"meeting\", \"meeting\", \"meeting\", \"members\", \"members\", \"members\", \"members\", \"membership\", \"membership\", \"membership\", \"men\", \"men\", \"men\", \"men\", \"men\", \"military\", \"military\", \"military\", \"million\", \"million\", \"million\", \"million\", \"million\", \"missile\", \"missile\", \"missiles\", \"monday\", \"monday\", \"monday\", \"monday\", \"moscow\", \"mother\", \"mother\", \"motors\", \"motors\", \"mr\", \"mr\", \"mr\", \"mr\", \"mr\", \"mrs\", \"mrs\", \"music\", \"music\", \"musical\", \"musical\", \"national\", \"national\", \"national\", \"national\", \"national\", \"nations\", \"nations\", \"nations\", \"nations\", \"officer\", \"officer\", \"officer\", \"officer\", \"old\", \"old\", \"old\", \"old\", \"old\", \"opposition\", \"pale\", \"party\", \"party\", \"party\", \"pay\", \"pay\", \"pay\", \"pay\", \"pay\", \"payment\", \"payment\", \"payments\", \"payments\", \"people\", \"people\", \"people\", \"people\", \"people\", \"pieces\", \"pieces\", \"pieces\", \"pieces\", \"pink\", \"place\", \"place\", \"place\", \"place\", \"place\", \"planning\", \"planning\", \"planning\", \"planning\", \"player\", \"polaris\", \"police\", \"police\", \"police\", \"political\", \"political\", \"political\", \"political\", \"pool\", \"pool\", \"pool\", \"pool\", \"pope\", \"premier\", \"president\", \"president\", \"president\", \"president\", \"president\", \"prestige\", \"prestige\", \"problem\", \"problem\", \"problem\", \"problem\", \"proceedings\", \"procurement\", \"procurement\", \"production\", \"production\", \"production\", \"production\", \"production\", \"products\", \"products\", \"products\", \"products\", \"professors\", \"program\", \"program\", \"program\", \"program\", \"property\", \"property\", \"property\", \"property\", \"prosperity\", \"provide\", \"provide\", \"provide\", \"provide\", \"provide\", \"providence\", \"providence\", \"providence\", \"public\", \"public\", \"public\", \"public\", \"puerto\", \"puerto\", \"race\", \"race\", \"radiation\", \"radiation\", \"railroad\", \"range\", \"range\", \"range\", \"range\", \"range\", \"rayburn\", \"recognition\", \"recognition\", \"recommendation\", \"recommendation\", \"recorded\", \"recorded\", \"recreation\", \"recreation\", \"recreation\", \"rehabilitation\", \"republican\", \"republicans\", \"research\", \"research\", \"research\", \"research\", \"research\", \"return\", \"return\", \"return\", \"return\", \"rhode\", \"rhode\", \"rico\", \"rico\", \"right\", \"right\", \"right\", \"right\", \"right\", \"robinson\", \"room\", \"room\", \"room\", \"said\", \"said\", \"said\", \"said\", \"said\", \"sales\", \"sales\", \"sales\", \"sales\", \"sat\", \"sat\", \"sat\", \"savings\", \"savings\", \"school\", \"school\", \"school\", \"school\", \"school\", \"schools\", \"schools\", \"schools\", \"schools\", \"schools\", \"secretary\", \"secretary\", \"secretary\", \"secretary\", \"section\", \"section\", \"section\", \"section\", \"sectors\", \"service\", \"service\", \"service\", \"service\", \"service\", \"services\", \"services\", \"services\", \"services\", \"shall\", \"shall\", \"shall\", \"shall\", \"shall\", \"shares\", \"shares\", \"shares\", \"shelter\", \"shelter\", \"shipments\", \"small\", \"small\", \"small\", \"small\", \"small\", \"son\", \"son\", \"son\", \"son\", \"southern\", \"soviet\", \"soviet\", \"speaker\", \"speaker\", \"speaker\", \"st\", \"st\", \"stared\", \"state\", \"state\", \"state\", \"state\", \"state\", \"states\", \"states\", \"states\", \"states\", \"stations\", \"stations\", \"stations\", \"stockholders\", \"stockholders\", \"student\", \"student\", \"student\", \"student\", \"student\", \"students\", \"students\", \"students\", \"students\", \"students\", \"studio\", \"sun\", \"sun\", \"sun\", \"sure\", \"sure\", \"sure\", \"sure\", \"sweet\", \"system\", \"system\", \"system\", \"system\", \"system\", \"systems\", \"tax\", \"tax\", \"tax\", \"teachers\", \"teachers\", \"teachers\", \"technical\", \"technical\", \"tends\", \"thereof\", \"thought\", \"thought\", \"thought\", \"thought\", \"thought\", \"title\", \"title\", \"title\", \"title\", \"tractor\", \"tractor\", \"treasury\", \"treasury\", \"trees\", \"trees\", \"troops\", \"trust\", \"trust\", \"trust\", \"trust\", \"trustees\", \"unions\", \"unions\", \"unions\", \"united\", \"united\", \"united\", \"united\", \"university\", \"university\", \"university\", \"university\", \"upstairs\", \"use\", \"use\", \"use\", \"use\", \"use\", \"utility\", \"utility\", \"ve\", \"ve\", \"ve\", \"ve\", \"vehicles\", \"vehicles\", \"vehicles\", \"vocational\", \"walls\", \"war\", \"war\", \"war\", \"war\", \"war\", \"wasn\", \"wasn\", \"water\", \"water\", \"water\", \"water\", \"way\", \"way\", \"way\", \"way\", \"way\", \"week\", \"week\", \"week\", \"week\", \"week\", \"went\", \"went\", \"went\", \"west\", \"west\", \"west\", \"windows\", \"woman\", \"woman\", \"woman\", \"work\", \"work\", \"work\", \"work\", \"work\", \"world\", \"world\", \"world\", \"world\", \"world\", \"yankees\", \"yards\", \"yellow\", \"yesterday\", \"yesterday\", \"yesterday\", \"yield\", \"yield\", \"york\", \"york\", \"york\", \"york\", \"york\"]}, \"R\": 30, \"lambda.step\": 0.01, \"plot.opts\": {\"xlab\": \"PC1\", \"ylab\": \"PC2\"}, \"topic.order\": [1, 2, 3, 4, 5]};\n",
       "\n",
       "function LDAvis_load_lib(url, callback){\n",
       "  var s = document.createElement('script');\n",
       "  s.src = url;\n",
       "  s.async = true;\n",
       "  s.onreadystatechange = s.onload = callback;\n",
       "  s.onerror = function(){console.warn(\"failed to load library \" + url);};\n",
       "  document.getElementsByTagName(\"head\")[0].appendChild(s);\n",
       "}\n",
       "\n",
       "if(typeof(LDAvis) !== \"undefined\"){\n",
       "   // already loaded: just create the visualization\n",
       "   !function(LDAvis){\n",
       "       new LDAvis(\"#\" + \"ldavis_el130023249443032641155204370\", ldavis_el130023249443032641155204370_data);\n",
       "   }(LDAvis);\n",
       "}else if(typeof define === \"function\" && define.amd){\n",
       "   // require.js is available: use it to load d3/LDAvis\n",
       "   require.config({paths: {d3: \"https://d3js.org/d3.v5\"}});\n",
       "   require([\"d3\"], function(d3){\n",
       "      window.d3 = d3;\n",
       "      LDAvis_load_lib(\"https://cdn.jsdelivr.net/gh/bmabey/pyLDAvis@3.3.1/pyLDAvis/js/ldavis.v3.0.0.js\", function(){\n",
       "        new LDAvis(\"#\" + \"ldavis_el130023249443032641155204370\", ldavis_el130023249443032641155204370_data);\n",
       "      });\n",
       "    });\n",
       "}else{\n",
       "    // require.js not available: dynamically load d3 & LDAvis\n",
       "    LDAvis_load_lib(\"https://d3js.org/d3.v5.js\", function(){\n",
       "         LDAvis_load_lib(\"https://cdn.jsdelivr.net/gh/bmabey/pyLDAvis@3.3.1/pyLDAvis/js/ldavis.v3.0.0.js\", function(){\n",
       "                 new LDAvis(\"#\" + \"ldavis_el130023249443032641155204370\", ldavis_el130023249443032641155204370_data);\n",
       "            })\n",
       "         });\n",
       "}\n",
       "</script>"
      ],
      "text/plain": [
       "<IPython.core.display.HTML object>"
      ]
     },
     "execution_count": 37,
     "metadata": {},
     "output_type": "execute_result"
    }
   ],
   "source": [
    "pyLDAvis.display(lda_display)"
   ]
  },
  {
   "cell_type": "markdown",
   "id": "331bc198",
   "metadata": {},
   "source": [
    "Q: What conclusions do you draw from the visualization above? Please address the principal component scatterplot and the salient terms graph.\n",
    "\n",
    "A: <!-- Your answer here --> From the principal component scatterplot we can observe that  each topic is unique so that there is no overlap among the topics. We can observe that Topic 3 is the largest topic.  Topics 4 and 5 are smaller than other topics. From salient terms graph we can observe that the most pronounced topics are 3, and 5. \n"
   ]
  },
  {
   "cell_type": "code",
   "execution_count": null,
   "id": "73964339",
   "metadata": {},
   "outputs": [],
   "source": []
  }
 ],
 "metadata": {
  "kernelspec": {
   "display_name": "Python 3",
   "language": "python",
   "name": "python3"
  },
  "language_info": {
   "codemirror_mode": {
    "name": "ipython",
    "version": 3
   },
   "file_extension": ".py",
   "mimetype": "text/x-python",
   "name": "python",
   "nbconvert_exporter": "python",
   "pygments_lexer": "ipython3",
   "version": "3.8.8"
  }
 },
 "nbformat": 4,
 "nbformat_minor": 5
}
