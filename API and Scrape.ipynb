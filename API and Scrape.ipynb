{
 "cells": [
  {
   "cell_type": "markdown",
   "id": "95952cac",
   "metadata": {},
   "source": [
    "# ADS 509 Module 1: APIs and Web Scraping\n",
    "\n",
    "This notebook has three parts. In the first part you will pull data from the Twitter API. In the second, you will scrape lyrics from AZLyrics.com. In the last part, you'll run code that verifies the completeness of your data pull. \n",
    "\n",
    "For this assignment you have chosen two musical artists who have at least 100,000 Twitter followers and 20 songs with lyrics on AZLyrics.com. In this part of the assignment we pull the some of the user information for the followers of your artist and store them in text files. \n"
   ]
  },
  {
   "cell_type": "markdown",
   "id": "069b7ae8",
   "metadata": {},
   "source": [
    "## General Assignment Instructions\n",
    "\n",
    "These instructions are included in every assignment, to remind you of the coding standards for the class. Feel free to delete this cell after reading it. \n",
    "\n",
    "One sign of mature code is conforming to a style guide. We recommend the [Google Python Style Guide](https://google.github.io/styleguide/pyguide.html). If you use a different style guide, please include a cell with a link. \n",
    "\n",
    "Your code should be relatively easy-to-read, sensibly commented, and clean. Writing code is a messy process, so please be sure to edit your final submission. Remove any cells that are not needed or parts of cells that contain unnecessary code. Remove inessential `import` statements and make sure that all such statements are moved into the designated cell. \n",
    "\n",
    "Make use of non-code cells for written commentary. These cells should be grammatical and clearly written. In some of these cells you will have questions to answer. The questions will be marked by a \"Q:\" and will have a corresponding \"A:\" spot for you. *Make sure to answer every question marked with a `Q:` for full credit.* \n"
   ]
  },
  {
   "cell_type": "markdown",
   "id": "91c8969e",
   "metadata": {},
   "source": [
    "# Twitter API Pull"
   ]
  },
  {
   "cell_type": "code",
   "execution_count": 1,
   "id": "185076b0",
   "metadata": {},
   "outputs": [],
   "source": [
    "# for the twitter section\n",
    "import tweepy\n",
    "import os\n",
    "import datetime\n",
    "import re\n",
    "from pprint import pprint\n",
    "\n",
    "# for the lyrics scrape section\n",
    "import requests\n",
    "import time\n",
    "from bs4 import BeautifulSoup\n",
    "import shutil\n",
    "from collections import defaultdict, Counter\n"
   ]
  },
  {
   "cell_type": "code",
   "execution_count": 2,
   "id": "a47e2d5f",
   "metadata": {},
   "outputs": [
    {
     "name": "stdout",
     "output_type": "stream",
     "text": [
      "4.9.0\n"
     ]
    }
   ],
   "source": [
    "# Use this cell for any import statements you add\n",
    "print(tweepy.__version__)\n"
   ]
  },
  {
   "cell_type": "code",
   "execution_count": 3,
   "id": "baf97c97",
   "metadata": {},
   "outputs": [],
   "source": [
    "#getting approval from Twitter API Keys, first need elevated access from Twitter \n",
    "#then click on create project and click on app to generate keys"
   ]
  },
  {
   "cell_type": "markdown",
   "id": "c21c86ec",
   "metadata": {},
   "source": [
    "We need bring in our API keys. Since API keys should be kept secret, we'll keep them in a file called `api_keys.py`. This file should be stored in the directory where you store this notebook. The example file is provided for you on Blackboard. The example has API keys that are _not_ functional, so you'll need to get Twitter credentials and replace the placeholder keys. "
   ]
  },
  {
   "cell_type": "code",
   "execution_count": 4,
   "id": "3ac898fc",
   "metadata": {},
   "outputs": [],
   "source": [
    "api_key= 'ppDZ0vlZFrUTzFKEo1KL8wrrc'\n",
    "api_key_secret= 'PdiObflSlZLULfdjI2d3NPB4a3Pwo89MBadIhJNinppY8ltq7K'\n",
    "access_token='1526040925029408770-TSoSoFkJP9t7wepjWajVRRYCMH1b0h'\n",
    "access_token_secret= '9Xugjs127ec4GLNcwtf4KTCVprd7iDy4HHzAfZFU7mwoh'"
   ]
  },
  {
   "cell_type": "code",
   "execution_count": 5,
   "id": "f01bdec6",
   "metadata": {},
   "outputs": [],
   "source": [
    "#from api_keys import api_key, api_key_secret, access_token, access_token_secret "
   ]
  },
  {
   "cell_type": "code",
   "execution_count": 6,
   "id": "e0c251d2",
   "metadata": {},
   "outputs": [],
   "source": [
    "\n",
    "auth = tweepy.OAuthHandler(api_key, api_key_secret)\n",
    "auth.set_access_token(access_token, access_token_secret)\n",
    "\n",
    "api = tweepy.API(\n",
    "    auth,\n",
    "    wait_on_rate_limit=True)"
   ]
  },
  {
   "cell_type": "markdown",
   "id": "6aa67032",
   "metadata": {},
   "source": [
    "## Testing the API\n",
    "\n",
    "The Twitter APIs are quite rich. Let's play around with some of the features before we dive into this section of the assignment. For our testing, it's convenient to have a small data set to play with. We will seed the code with the handle of John Chandler, one of the instructors in this course. His handle is `@37chandler`. Feel free to use a different handle if you would like to look at someone else's data. \n",
    "\n",
    "We will write code to explore a few aspects of the API: \n",
    "\n",
    "1. Pull all the follower IDs for @katymck.\n",
    "1. Explore the user object, which gives us information about Twitter users. \n",
    "1. Pull some user objects for the followers. \n",
    "1. Pull the last few tweets by @katymck.\n"
   ]
  },
  {
   "cell_type": "code",
   "execution_count": 7,
   "id": "56fb2673",
   "metadata": {},
   "outputs": [
    {
     "name": "stderr",
     "output_type": "stream",
     "text": [
      "Unexpected parameter: wait_on_rate_limit\n",
      "Unexpected parameter: compression\n"
     ]
    },
    {
     "name": "stdout",
     "output_type": "stream",
     "text": [
      "Here are the first five follower ids for katymck out of the 13 total.\n",
      "katymck has 13 followers\n"
     ]
    },
    {
     "data": {
      "text/plain": [
       "[1351711667416023041, 1150871234, 248618836, 3199856542, 1239123794]"
      ]
     },
     "execution_count": 7,
     "metadata": {},
     "output_type": "execute_result"
    }
   ],
   "source": [
    "\n",
    "handle = \"katymck\"\n",
    "\n",
    "followers = []\n",
    "\n",
    "for page in tweepy.Cursor(api.get_follower_ids,\n",
    "                          # acquiring all ids \n",
    "                          # wait on rate limit\n",
    "                          wait_on_rate_limit=True,  \n",
    "                          compression=True,\n",
    "                          screen_name=handle).pages():\n",
    "\n",
    "    # calling function .extend \n",
    "    followers.extend(page)\n",
    "        \n",
    "        \n",
    "print(f\"Here are the first five follower ids for {handle} out of the {len(followers)} total.\")\n",
    "print(f'{handle} has {len(followers)} followers')\n",
    "followers_subset = followers[:5]\n",
    "followers_subset"
   ]
  },
  {
   "cell_type": "code",
   "execution_count": 8,
   "id": "ac6c9f8e",
   "metadata": {},
   "outputs": [],
   "source": [
    "# Testing API went well"
   ]
  },
  {
   "cell_type": "markdown",
   "id": "2dad0a3f",
   "metadata": {},
   "source": [
    "We have the follower IDs, which are unique numbers identifying the user, but we'd like to get some more information on these users. Twitter allows us to pull \"fully hydrated user objects\", which is a fancy way of saying \"all the information about the user\". Let's look at user object for our starting handle."
   ]
  },
  {
   "cell_type": "code",
   "execution_count": 9,
   "id": "e1ae5e35",
   "metadata": {},
   "outputs": [
    {
     "name": "stdout",
     "output_type": "stream",
     "text": [
      "{'id': 17947072, 'id_str': '17947072', 'name': 'Katy McKinney-Bock', 'screen_name': 'katymck', 'location': 'Portland, OR', 'profile_location': None, 'description': '', 'url': None, 'entities': {'description': {'urls': []}}, 'protected': False, 'followers_count': 13, 'friends_count': 108, 'listed_count': 0, 'created_at': 'Sun Dec 07 20:21:24 +0000 2008', 'favourites_count': 5, 'utc_offset': None, 'time_zone': None, 'geo_enabled': False, 'verified': False, 'statuses_count': 1, 'lang': None, 'status': {'created_at': 'Tue Sep 06 18:09:24 +0000 2016', 'id': 773221578850967552, 'id_str': '773221578850967552', 'text': '@MattAndersonBBC our eyes give us away-@1000frames/sec, eye-tracking shows we use adjective order to deduce meaning! https://t.co/ZuyGIHnB1U', 'truncated': False, 'entities': {'hashtags': [], 'symbols': [], 'user_mentions': [], 'urls': [{'url': 'https://t.co/ZuyGIHnB1U', 'expanded_url': 'http://tinyurl.com/z3rvmlh', 'display_url': 'tinyurl.com/z3rvmlh', 'indices': [117, 140]}]}, 'source': '<a href=\"http://twitter.com\" rel=\"nofollow\">Twitter Web Client</a>', 'in_reply_to_status_id': 772002757222002688, 'in_reply_to_status_id_str': '772002757222002688', 'in_reply_to_user_id': 1193503572, 'in_reply_to_user_id_str': '1193503572', 'in_reply_to_screen_name': 'MattAndersonNYT', 'geo': None, 'coordinates': None, 'place': None, 'contributors': None, 'is_quote_status': False, 'retweet_count': 0, 'favorite_count': 0, 'favorited': False, 'retweeted': False, 'possibly_sensitive': False, 'lang': 'en'}, 'contributors_enabled': False, 'is_translator': False, 'is_translation_enabled': False, 'profile_background_color': 'EBEBEB', 'profile_background_image_url': 'http://abs.twimg.com/images/themes/theme7/bg.gif', 'profile_background_image_url_https': 'https://abs.twimg.com/images/themes/theme7/bg.gif', 'profile_background_tile': False, 'profile_image_url': 'http://pbs.twimg.com/profile_images/67418356/katy_normal.jpg', 'profile_image_url_https': 'https://pbs.twimg.com/profile_images/67418356/katy_normal.jpg', 'profile_link_color': '990000', 'profile_sidebar_border_color': 'DFDFDF', 'profile_sidebar_fill_color': 'F3F3F3', 'profile_text_color': '333333', 'profile_use_background_image': True, 'has_extended_profile': False, 'default_profile': False, 'default_profile_image': False, 'following': False, 'follow_request_sent': False, 'notifications': False, 'translator_type': 'none', 'withheld_in_countries': []}\n"
     ]
    }
   ],
   "source": [
    "#acquiring user information\n",
    "user = api.get_user(screen_name=handle) \n",
    "print(user._json)"
   ]
  },
  {
   "cell_type": "markdown",
   "id": "d425d1d4",
   "metadata": {},
   "source": [
    "Now a few questions for you about the user object.\n",
    "\n",
    "Q: How many fields are being returned in the \\_json portion of the user object? \n",
    "\n",
    "A: <!-- Put your answer here --> There are 44 fields that are being returned\n",
    "\n",
    "---\n",
    "\n",
    "Q: Are any of the fields within the user object non-scaler? TK correct term\n",
    "\n",
    "A: <!-- Put your answer here --> Yes, it is because some lines have multiple values\n",
    "\n",
    "---\n",
    "\n",
    "Q: How many friends, followers, favorites, and statuses does this user have? \n",
    "\n",
    "A: <!-- Put your answer here --> There are 13 followers count, 108 friends count, 5 favorites count, and status count is 1.\n"
   ]
  },
  {
   "cell_type": "markdown",
   "id": "8814a790",
   "metadata": {},
   "source": [
    "We can map the follower IDs onto screen names by accessing the screen_name key within the user object. Modify the code below to also print out how many people the follower is following and how many followers they have. "
   ]
  },
  {
   "cell_type": "code",
   "execution_count": 10,
   "id": "6447c3ae",
   "metadata": {},
   "outputs": [
    {
     "name": "stdout",
     "output_type": "stream",
     "text": [
      "user: roadmaphome2030 ,  followers_count: 7356,friends_count: 3251 \n",
      "user: ImaneBello ,  followers_count: 373,friends_count: 819 \n",
      "user: BuseCett ,  followers_count: 1433,friends_count: 1749 \n",
      "user: apreshill ,  followers_count: 16746,friends_count: 1905 \n",
      "user: DaraShifrer ,  followers_count: 395,friends_count: 602 \n",
      "user: g2barrow ,  followers_count: 4,friends_count: 14 \n",
      "user: ErikaVaris ,  followers_count: 952,friends_count: 458 \n",
      "user: mlroach ,  followers_count: 1918,friends_count: 667 \n",
      "user: rlengland ,  followers_count: 46,friends_count: 157 \n",
      "user: mmkane ,  followers_count: 15,friends_count: 205 \n"
     ]
    }
   ],
   "source": [
    "ids_to_lookup = followers[:10]\n",
    "\n",
    "for user_obj in api.lookup_users(user_id=ids_to_lookup) :\n",
    "\n",
    "    print(f\"user: {user_obj.screen_name} ,  followers_count: {user_obj.followers_count},friends_count: {user_obj.friends_count} \")\n",
    "    \n",
    "    # Add code here to print out friends and followers of `handle`\n"
   ]
  },
  {
   "cell_type": "markdown",
   "id": "d8564d2c",
   "metadata": {},
   "source": [
    "Although you won't need it for this assignment, individual tweets (called \"statuses\" in the API) can be a rich source of text-based data. To illustrate the concepts, let's look at the last few tweets for this user. You are encouraged to explore the `status` object and marvel in the richness of the data that is available. \n"
   ]
  },
  {
   "cell_type": "code",
   "execution_count": 11,
   "id": "a9fb5c4d",
   "metadata": {},
   "outputs": [
    {
     "name": "stderr",
     "output_type": "stream",
     "text": [
      "Unexpected parameter: id\n",
      "Unexpected parameter: id\n"
     ]
    },
    {
     "name": "stdout",
     "output_type": "stream",
     "text": [
      "The tweet was tweeted at 2016-09-06 18:09:24+00:00.\n",
      "The original tweet has been retweeted 0 times.\n",
      "@MattAndersonBBC our eyes give us away-@1000frames/sec, eye-tracking shows we use adjective order to deduce meaning! https://t.co/ZuyGIHnB1U\n",
      "\n",
      "\n",
      "\n"
     ]
    }
   ],
   "source": [
    "tweet_count = 0\n",
    "\n",
    "for status in tweepy.Cursor(api.user_timeline, id=handle).items():\n",
    "    tweet_count += 1\n",
    "    \n",
    "    print(f\"The tweet was tweeted at {status.created_at}.\")\n",
    "    print(f\"The original tweet has been retweeted {status.retweet_count} times.\")\n",
    "    \n",
    "    clean_status = status.text\n",
    "    clean_status = clean_status.replace(\"\\n\",\" \")\n",
    "    \n",
    "    print(f\"{clean_status}\")\n",
    "    print(\"\\n\"*2)\n",
    "        \n",
    "    if tweet_count > 10 :\n",
    "        break\n",
    "\n"
   ]
  },
  {
   "cell_type": "markdown",
   "id": "66d50726",
   "metadata": {},
   "source": [
    "## Pulling Follower Information\n",
    "\n",
    "In this next section of the assignment, we will pull information about the followers of your two artists. We must first get the follower IDs, then we will be able to \"hydrate\" the IDs, pulling the user objects for them. Once we have those user objects we will extract some fields that we can use in future analyses. \n",
    "\n",
    "\n",
    "The Twitter API only allows users to make 15 requests per 15 minutes when pulling followers. Each request allows you to gather 5000 follower ids. Tweepy will grab the 15 requests quickly then wait 15 minutes, rather than slowly pull the requests over the time period. Before we start grabbing follower IDs, let's first just check how long it would take to pull all of the followers. To do this we use the `followers_count` item from the user object. "
   ]
  },
  {
   "cell_type": "code",
   "execution_count": 12,
   "id": "cfdc55ab",
   "metadata": {},
   "outputs": [
    {
     "name": "stdout",
     "output_type": "stream",
     "text": [
      "\n",
      "    @taylorswift13 has 90361248 followers. \n",
      "    That will take roughly 301.20 hours to pull the followers.\n",
      "    \n",
      "\n",
      "    @blakeshelton has 19851727 followers. \n",
      "    That will take roughly 66.17 hours to pull the followers.\n",
      "    \n"
     ]
    }
   ],
   "source": [
    "# I'm putting the handles in a list to iterate through below\n",
    "handles = ['taylorswift13','blakeshelton']\n",
    "\n",
    "# This will iterate through each Twitter handle that we're collecting from\n",
    "for screen_name in handles:\n",
    "    \n",
    "    # Tells Tweepy we want information on the handle we're collecting from\n",
    "    # The next line specifies which information we want, which in this case is the number of followers \n",
    "    user = api.get_user(screen_name=screen_name) \n",
    "    followers_count = user.followers_count\n",
    "\n",
    "    # Let's see roughly how long it will take to grab all the follower IDs. \n",
    "    print(f'''\n",
    "    @{screen_name} has {followers_count} followers. \n",
    "    That will take roughly {followers_count/(5000*15*4):.2f} hours to pull the followers.\n",
    "    ''')\n",
    "    "
   ]
  },
  {
   "cell_type": "markdown",
   "id": "0d5f3299",
   "metadata": {},
   "source": [
    "As we pull data for each artist we will write their data to a folder called \"twitter\", so we will make that folder if needed."
   ]
  },
  {
   "cell_type": "code",
   "execution_count": 13,
   "id": "e3a32641",
   "metadata": {},
   "outputs": [],
   "source": [
    "# Make the \"twitter\" folder here. If you'd like to practice your programming, add functionality \n",
    "# that checks to see if the folder exists. If it does, then \"unlink\" it. Then create a new one.\n",
    "\n",
    "if not os.path.isdir(\"twitter\") : \n",
    "    #shutil.rmtree(\"twitter/\")\n",
    "    os.mkdir(\"twitter\")"
   ]
  },
  {
   "cell_type": "markdown",
   "id": "dd58dd90",
   "metadata": {},
   "source": [
    "In this following cells, use the `api.followers_ids` (and the `tweepy.Cursor` functionality) to pull some of the followers for your two artists. As you pull the data, write the follower ids to a file called `[artist name]_followers.txt` in the \"twitter\" folder. For instance, for Cher I would create a file named `cher_followers.txt`. As you pull the data, also store it in an object like a list or a data frame."
   ]
  },
  {
   "cell_type": "code",
   "execution_count": 14,
   "id": "ad5d24ae",
   "metadata": {},
   "outputs": [],
   "source": [
    "num_followers_to_pull = 1*1000 # feel free to use this to limit the number of followers you pull."
   ]
  },
  {
   "cell_type": "code",
   "execution_count": 15,
   "id": "7ac06010",
   "metadata": {},
   "outputs": [
    {
     "name": "stdout",
     "output_type": "stream",
     "text": [
      "pulling followers for taylorswift13.\n",
      "loaded in 5000accounts...\n",
      "finished pulling followers for taylorswift13.\n",
      "writing taylorswift13 followers info to file: twitter/taylorswift13_followers.txt\n",
      "pulling followers for blakeshelton.\n",
      "loaded in 5000accounts...\n",
      "finished pulling followers for blakeshelton.\n",
      "writing blakeshelton followers info to file: twitter/blakeshelton_followers.txt\n",
      "0:00:01.040951\n",
      "all_followers 10000\n"
     ]
    }
   ],
   "source": [
    "# Modify the below code stub to pull the follower IDs and write them to a file. \n",
    "\n",
    "# Grabs the time when we start making requests to the API\n",
    "start_time = datetime.datetime.now()\n",
    "all_followers = []\n",
    "for handle in handles :\n",
    "    \n",
    "    output_file =  'twitter/'+ handle + \"_followers.txt\"\n",
    "    print(f'pulling followers for {handle}.')\n",
    "    \n",
    "    # Pull and store the follower IDs\n",
    "    followers = []\n",
    "    for page in tweepy.Cursor(api.get_follower_ids,screen_name=handle).pages():\n",
    "        # The page variable comes back as a list, so we have to use .extend rather than .append\n",
    "        followers.extend(page)\n",
    "        all_followers.extend(page)\n",
    "        \n",
    "        print(f'loaded in {len(followers)}accounts...')\n",
    "        \n",
    "        # If you've pulled num_followers_to_pull, feel free to break out paged twitter API response\n",
    "        if len(followers) >= num_followers_to_pull:\n",
    "            break\n",
    "            \n",
    "        time.sleep(30)\n",
    "        \n",
    "    print(f'finished pulling followers for {handle}.')\n",
    "    \n",
    "    print(f'writing {handle} followers info to file: {output_file}')\n",
    "    # Write the IDs to the output file in the `twitter` folder.        \n",
    "    with open(output_file, 'w') as f:\n",
    "        for follower in followers:\n",
    "            f.write(str(follower)+'\\n')\n",
    "        \n",
    "            \n",
    "        \n",
    "        \n",
    "# Let's see how long it took to grab all follower IDs\n",
    "end_time = datetime.datetime.now()\n",
    "print(end_time - start_time)\n",
    "print(f'all_followers {len(all_followers)}')\n"
   ]
  },
  {
   "cell_type": "markdown",
   "id": "b1b98e1d",
   "metadata": {},
   "source": [
    "Now that you have your follower ids, gather some information that we can use in future assignments on them. Using the `lookup_users` function, pull the user objects for your followers. These requests are limited to 900 per 15 minutes, but you can request 100 users at a time. At 90,000 users per 15 minutes, the rate limiter on pulls might be bandwidth rather than API limits. \n",
    "\n",
    "Extract the following fields from the user object: \n",
    "\n",
    "* screen_name\t\n",
    "* name\t\n",
    "* id\t\n",
    "* location\t\n",
    "* followers_count\t\n",
    "* friends_count\t\n",
    "* description\n",
    "\n",
    "These can all be accessed via these names in the object. Store the fields with one user per row in a tab-delimited text file with the name `[artist name]_follower_data.txt`. For instance, for Cher I would create a file named `cher_follower_data.txt`. \n"
   ]
  },
  {
   "cell_type": "code",
   "execution_count": 16,
   "id": "4043696e",
   "metadata": {},
   "outputs": [
    {
     "name": "stdout",
     "output_type": "stream",
     "text": [
      " Volume in drive C is OS\n",
      " Volume Serial Number is 64E0-3BF8\n",
      "\n",
      " Directory of C:\\Users\\saith\\twitter\n",
      "\n",
      "05/26/2022  05:06 PM    <DIR>          .\n",
      "05/26/2022  05:06 PM    <DIR>          ..\n",
      "05/26/2022  05:07 PM            99,597 blakeshelton_followers.txt\n",
      "05/26/2022  04:24 PM           423,314 blakeshelton_followers_data.txt\n",
      "05/26/2022  05:07 PM           101,305 taylorswift13_followers.txt\n",
      "05/26/2022  04:23 PM           393,593 taylorswift13_followers_data.txt\n",
      "               4 File(s)      1,017,809 bytes\n",
      "               2 Dir(s)  117,948,719,104 bytes free\n"
     ]
    }
   ],
   "source": [
    "ls twitter"
   ]
  },
  {
   "cell_type": "code",
   "execution_count": 17,
   "id": "c379c8ce",
   "metadata": {},
   "outputs": [],
   "source": [
    "n_followers = 5000\n",
    "all_followers = {}\n",
    "for handle in handles:\n",
    "    with open(f'twitter/{handle}_followers.txt', 'r') as f:\n",
    "        all_followers[handle] = f.read().split('\\n')[:n_followers] # limit number of followers"
   ]
  },
  {
   "cell_type": "code",
   "execution_count": 18,
   "id": "9b782e78",
   "metadata": {},
   "outputs": [
    {
     "data": {
      "text/plain": [
       "dict_keys(['taylorswift13', 'blakeshelton'])"
      ]
     },
     "execution_count": 18,
     "metadata": {},
     "output_type": "execute_result"
    }
   ],
   "source": [
    "all_followers.keys()"
   ]
  },
  {
   "cell_type": "code",
   "execution_count": 19,
   "id": "f6dd1120",
   "metadata": {},
   "outputs": [
    {
     "name": "stdout",
     "output_type": "stream",
     "text": [
      "Getting taylorswift13 follower data\n",
      "pages: 51\n",
      "follower_ids_subset: 100\n",
      "obtained page :1,  users:100\n",
      "follower_ids_subset: 100\n",
      "obtained page :2,  users:200\n",
      "follower_ids_subset: 100\n",
      "obtained page :3,  users:300\n",
      "follower_ids_subset: 100\n",
      "obtained page :4,  users:400\n",
      "follower_ids_subset: 100\n",
      "obtained page :5,  users:500\n",
      "follower_ids_subset: 100\n",
      "obtained page :6,  users:600\n",
      "follower_ids_subset: 100\n",
      "obtained page :7,  users:700\n",
      "follower_ids_subset: 100\n",
      "obtained page :8,  users:800\n",
      "follower_ids_subset: 100\n",
      "obtained page :9,  users:900\n",
      "follower_ids_subset: 100\n",
      "obtained page :10,  users:1000\n",
      "follower_ids_subset: 100\n",
      "obtained page :11,  users:1100\n",
      "follower_ids_subset: 100\n",
      "obtained page :12,  users:1200\n",
      "follower_ids_subset: 100\n",
      "obtained page :13,  users:1300\n",
      "follower_ids_subset: 100\n",
      "obtained page :14,  users:1400\n",
      "follower_ids_subset: 100\n",
      "obtained page :15,  users:1500\n",
      "follower_ids_subset: 100\n",
      "obtained page :16,  users:1600\n",
      "follower_ids_subset: 100\n",
      "obtained page :17,  users:1700\n",
      "follower_ids_subset: 100\n",
      "obtained page :18,  users:1800\n",
      "follower_ids_subset: 100\n",
      "obtained page :19,  users:1900\n",
      "follower_ids_subset: 100\n",
      "obtained page :20,  users:2000\n",
      "follower_ids_subset: 100\n",
      "obtained page :21,  users:2100\n",
      "follower_ids_subset: 100\n",
      "obtained page :22,  users:2200\n",
      "follower_ids_subset: 100\n",
      "obtained page :23,  users:2300\n",
      "follower_ids_subset: 100\n",
      "obtained page :24,  users:2400\n",
      "follower_ids_subset: 100\n",
      "obtained page :25,  users:2500\n",
      "follower_ids_subset: 100\n",
      "obtained page :26,  users:2600\n",
      "follower_ids_subset: 100\n",
      "obtained page :27,  users:2700\n",
      "follower_ids_subset: 100\n",
      "obtained page :28,  users:2800\n",
      "follower_ids_subset: 100\n",
      "obtained page :29,  users:2900\n",
      "follower_ids_subset: 100\n",
      "obtained page :30,  users:3000\n",
      "follower_ids_subset: 100\n",
      "obtained page :31,  users:3100\n",
      "follower_ids_subset: 100\n",
      "obtained page :32,  users:3200\n",
      "follower_ids_subset: 100\n",
      "obtained page :33,  users:3300\n",
      "follower_ids_subset: 100\n",
      "obtained page :34,  users:3400\n",
      "follower_ids_subset: 100\n",
      "obtained page :35,  users:3500\n",
      "follower_ids_subset: 100\n",
      "obtained page :36,  users:3600\n",
      "follower_ids_subset: 100\n",
      "obtained page :37,  users:3700\n",
      "follower_ids_subset: 100\n",
      "obtained page :38,  users:3800\n",
      "follower_ids_subset: 100\n",
      "obtained page :39,  users:3900\n",
      "follower_ids_subset: 100\n",
      "obtained page :40,  users:4000\n",
      "follower_ids_subset: 100\n",
      "obtained page :41,  users:4100\n",
      "follower_ids_subset: 100\n",
      "obtained page :42,  users:4200\n",
      "follower_ids_subset: 100\n",
      "obtained page :43,  users:4300\n",
      "follower_ids_subset: 100\n",
      "obtained page :44,  users:4400\n",
      "follower_ids_subset: 100\n",
      "obtained page :45,  users:4500\n",
      "follower_ids_subset: 100\n",
      "obtained page :46,  users:4600\n",
      "follower_ids_subset: 100\n",
      "obtained page :47,  users:4700\n",
      "follower_ids_subset: 100\n",
      "obtained page :48,  users:4800\n",
      "follower_ids_subset: 100\n",
      "obtained page :49,  users:4900\n",
      "follower_ids_subset: 100\n",
      "obtained page :50,  users:5000\n",
      "follower_ids_subset: 100\n",
      "obtained page :51,  users:5100\n",
      "\n",
      "Getting blakeshelton follower data\n",
      "pages: 51\n",
      "follower_ids_subset: 100\n",
      "obtained page :1,  users:100\n",
      "follower_ids_subset: 100\n",
      "obtained page :2,  users:200\n",
      "follower_ids_subset: 100\n",
      "obtained page :3,  users:300\n",
      "follower_ids_subset: 100\n",
      "obtained page :4,  users:400\n",
      "follower_ids_subset: 100\n",
      "obtained page :5,  users:500\n",
      "follower_ids_subset: 100\n",
      "obtained page :6,  users:600\n",
      "follower_ids_subset: 100\n",
      "obtained page :7,  users:700\n",
      "follower_ids_subset: 100\n",
      "obtained page :8,  users:800\n",
      "follower_ids_subset: 100\n",
      "obtained page :9,  users:900\n",
      "follower_ids_subset: 100\n",
      "obtained page :10,  users:1000\n",
      "follower_ids_subset: 100\n",
      "obtained page :11,  users:1100\n",
      "follower_ids_subset: 100\n",
      "obtained page :12,  users:1200\n",
      "follower_ids_subset: 100\n",
      "obtained page :13,  users:1300\n",
      "follower_ids_subset: 100\n",
      "obtained page :14,  users:1400\n",
      "follower_ids_subset: 100\n",
      "obtained page :15,  users:1500\n",
      "follower_ids_subset: 100\n",
      "obtained page :16,  users:1600\n",
      "follower_ids_subset: 100\n",
      "obtained page :17,  users:1700\n",
      "follower_ids_subset: 100\n",
      "obtained page :18,  users:1800\n",
      "follower_ids_subset: 100\n",
      "obtained page :19,  users:1900\n",
      "follower_ids_subset: 100\n",
      "obtained page :20,  users:2000\n",
      "follower_ids_subset: 100\n",
      "obtained page :21,  users:2100\n",
      "follower_ids_subset: 100\n",
      "obtained page :22,  users:2200\n",
      "follower_ids_subset: 100\n",
      "obtained page :23,  users:2300\n",
      "follower_ids_subset: 100\n",
      "obtained page :24,  users:2400\n",
      "follower_ids_subset: 100\n",
      "obtained page :25,  users:2500\n",
      "follower_ids_subset: 100\n",
      "obtained page :26,  users:2600\n",
      "follower_ids_subset: 100\n",
      "obtained page :27,  users:2700\n",
      "follower_ids_subset: 100\n",
      "obtained page :28,  users:2800\n",
      "follower_ids_subset: 100\n",
      "obtained page :29,  users:2900\n",
      "follower_ids_subset: 100\n",
      "obtained page :30,  users:3000\n",
      "follower_ids_subset: 100\n",
      "obtained page :31,  users:3100\n",
      "follower_ids_subset: 100\n",
      "obtained page :32,  users:3200\n",
      "follower_ids_subset: 100\n",
      "obtained page :33,  users:3300\n",
      "follower_ids_subset: 100\n",
      "obtained page :34,  users:3400\n",
      "follower_ids_subset: 100\n",
      "obtained page :35,  users:3500\n",
      "follower_ids_subset: 100\n",
      "obtained page :36,  users:3600\n",
      "follower_ids_subset: 100\n",
      "obtained page :37,  users:3700\n",
      "follower_ids_subset: 100\n",
      "obtained page :38,  users:3800\n",
      "follower_ids_subset: 100\n",
      "obtained page :39,  users:3900\n",
      "follower_ids_subset: 100\n",
      "obtained page :40,  users:4000\n",
      "follower_ids_subset: 100\n",
      "obtained page :41,  users:4100\n",
      "follower_ids_subset: 100\n",
      "obtained page :42,  users:4200\n",
      "follower_ids_subset: 100\n",
      "obtained page :43,  users:4300\n",
      "follower_ids_subset: 100\n",
      "obtained page :44,  users:4400\n",
      "follower_ids_subset: 100\n",
      "obtained page :45,  users:4500\n",
      "follower_ids_subset: 100\n",
      "obtained page :46,  users:4600\n",
      "follower_ids_subset: 100\n",
      "obtained page :47,  users:4700\n",
      "follower_ids_subset: 100\n",
      "obtained page :48,  users:4800\n",
      "follower_ids_subset: 100\n",
      "obtained page :49,  users:4900\n",
      "follower_ids_subset: 100\n",
      "obtained page :50,  users:5000\n",
      "follower_ids_subset: 100\n",
      "obtained page :51,  users:5100\n",
      "\n"
     ]
    }
   ],
   "source": [
    "import pandas as pd\n",
    "    # in this cell, do the following\n",
    "    # 1. Set up a data frame or dictionary to hold the user information\n",
    "for handle in handles:\n",
    "    print(f'Getting {handle} follower data')\n",
    "   \n",
    "    users_info = []\n",
    "    # 2. Use the `lookup_users` api function to pull sets of 100 users at a time\n",
    "\n",
    "    pages = len(all_followers[handle]) // 100 + 1\n",
    "    follower_users = []\n",
    "\n",
    "    print(f'pages: {pages}')\n",
    "    # get the user object for each foollower\n",
    "    for i in range(pages):\n",
    "\n",
    "        follower_ids_subset = all_followers[handle][i:i+100]\n",
    "\n",
    "        print(f'follower_ids_subset: {len(follower_ids_subset)}')\n",
    "\n",
    "        #grab users for these 100 or less followers\n",
    "        user_results = api.lookup_users(user_id=follower_ids_subset)#issue with call : positional argument error\n",
    "\n",
    "        follower_users.extend(user_results)\n",
    "\n",
    "        print(f'obtained page :{i+1},  users:{len(follower_users)}')\n",
    "\n",
    "        if len(follower_users)% 90_000 == 0:\n",
    "            time.sleep(60*15)\n",
    "\n",
    "\n",
    "    # for follower_user in follower_users:\n",
    "    # 3. Store the listed fields in your data frame or dictionary.\n",
    "    items = ['screen_name', 'name', 'id', 'location', 'followers_count',\n",
    "             'friends_count', 'description']\n",
    "    fields = []\n",
    "    for follower_user in follower_users:\n",
    "        fields.append({x: follower_user._json[x] for x in items})       \n",
    "    follower_df = pd.DataFrame(fields)\n",
    "    \n",
    "    # clean tabs based on the following instruction\n",
    "    follower_df['description'] = follower_df['description'].apply(lambda x: re.sub(r\"\\s+\",\" \",x))\n",
    "\n",
    "    \n",
    "    # 4. Write the user information in tab-delimited form to the follower data text file. \n",
    "    follower_df.to_csv(f'twitter/{handle}_followers_data.txt', index=False, sep='\\t')\n",
    "    print()\n"
   ]
  },
  {
   "cell_type": "markdown",
   "id": "18309057",
   "metadata": {},
   "source": [
    "One note: the user's description can have tabs or returns in it, so make sure to clean those out of the description before writing them to the file. Here's an example of how you might do this. "
   ]
  },
  {
   "cell_type": "code",
   "execution_count": 20,
   "id": "2311694f",
   "metadata": {},
   "outputs": [
    {
     "data": {
      "text/plain": [
       "' Home by Warsan Shire no one leaves home unless home is the mouth of a shark. you only run for the border when you see the whole city running as well. '"
      ]
     },
     "execution_count": 20,
     "metadata": {},
     "output_type": "execute_result"
    }
   ],
   "source": [
    "tricky_description = \"\"\"\n",
    "    Home by Warsan Shire\n",
    "    \n",
    "    no one leaves home unless\n",
    "    home is the mouth of a shark.\n",
    "    you only run for the border\n",
    "    when you see the whole city\n",
    "    running as well.\n",
    "\n",
    "\"\"\"\n",
    "# This won't work in a tab-delimited text file.\n",
    "\n",
    "clean_description = re.sub(r\"\\s+\",\" \",tricky_description)\n",
    "clean_description"
   ]
  },
  {
   "cell_type": "markdown",
   "id": "45c13af3",
   "metadata": {},
   "source": [
    "---\n",
    "\n",
    "# Lyrics Scrape\n",
    "\n",
    "This section asks you to pull data from the Twitter API and scrape www.AZLyrics.com. In the notebooks where you do that work you are asked to store the data in specific ways. "
   ]
  },
  {
   "cell_type": "code",
   "execution_count": 21,
   "id": "1a0aad09",
   "metadata": {},
   "outputs": [],
   "source": [
    "# twitter\n",
    "import tweepy\n",
    "import os\n",
    "import datetime\n",
    "import re\n",
    "from pprint import pprint"
   ]
  },
  {
   "cell_type": "code",
   "execution_count": 22,
   "id": "05a3f29c",
   "metadata": {},
   "outputs": [],
   "source": [
    "# to implement Lyrics Scrate \n",
    "import requests\n",
    "import time\n",
    "from bs4 import BeautifulSoup\n",
    "import shutil\n",
    "from collections import defaultdict, Counter\n"
   ]
  },
  {
   "cell_type": "code",
   "execution_count": 23,
   "id": "ee925009",
   "metadata": {},
   "outputs": [],
   "source": [
    "artists = {'taylorswift':\"https://www.azlyrics.com/t/taylorswift.html\", \n",
    "           'blakeshelton':\"https://www.azlyrics.com/b/blakeshelton.html\"} \n",
    "# we'll use this dictionary to hold both the artist name and the link on AZlyrics"
   ]
  },
  {
   "cell_type": "markdown",
   "id": "98d994c7",
   "metadata": {},
   "source": [
    "## A Note on Rate Limiting\n",
    "\n",
    "The lyrics site, www.azlyrics.com, does not have an explicit maximum on number of requests in any one time, but in our testing it appears that too many requests in too short a time will cause the site to stop returning lyrics pages. (Entertainingly, the page that gets returned seems to only have the song title to [a Tom Jones song](https://www.azlyrics.com/lyrics/tomjones/itsnotunusual.html).) \n",
    "\n",
    "Whenever you call `requests.get` to retrieve a page, put a `time.sleep(5 + 10*random.random())` on the next line. This will help you not to get blocked. If you _do_ get blocked, which you can identify if the returned pages are not correct, just request a lyrics page through your browser. You'll be asked to perform a CAPTCHA and then your requests should start working again. \n",
    "\n",
    "## Part 1: Finding Links to Songs Lyrics\n",
    "\n",
    "That general artist page has a list of all songs for that artist with links to the individual song pages. \n",
    "\n",
    "Q: Take a look at the `robots.txt` page on www.azlyrics.com. (You can read more about these pages [here](https://developers.google.com/search/docs/advanced/robots/intro).) Is the scraping we are about to do allowed or disallowed by this page? How do you know? \n",
    "\n",
    "A: <!-- Delete this comment and put your answer here. --> According to the robots.txt, the scraping we are about to do is disallowed. \n",
    "<User-agent: *\n",
    "Disallow: /lyricsdb/\n",
    "Disallow: /song/\n",
    "Allow: /\n",
    "                    \n",
    "\n",
    "Disallow: />\n",
    "    \n"
   ]
  },
  {
   "cell_type": "code",
   "execution_count": 24,
   "id": "ac9d31ec",
   "metadata": {},
   "outputs": [],
   "source": [
    "# Let's set up a dictionary of lists to hold our links\n",
    "from lxml import html\n",
    "import random\n",
    "import requests \n",
    "lyrics_pages = defaultdict(list)\n",
    "\n",
    "for artist, artist_page in artists.items() :\n",
    "    # request the page and sleep\n",
    "    r = requests.get(artist_page)\n",
    "    webpage = html.fromstring(r.content)\n",
    "    #get all the links in the artist page and slice out the links that are not necessary\n",
    "    links = webpage.xpath('//a/@href')[31:-8]\n",
    "    lyrics_pages[artist] = links\n",
    "    time.sleep(5 + 10*random.random())\n",
    "\n",
    "    "
   ]
  },
  {
   "cell_type": "code",
   "execution_count": 25,
   "id": "a6c4ea80",
   "metadata": {},
   "outputs": [],
   "source": [
    "#print(len(lyrics_pages['taylorswift']))\n",
    "#print(len(lyrics_pages['blakeshelton']))"
   ]
  },
  {
   "cell_type": "markdown",
   "id": "9c285ec1",
   "metadata": {},
   "source": [
    "Let's make sure we have enough lyrics pages to scrape. "
   ]
  },
  {
   "cell_type": "code",
   "execution_count": 26,
   "id": "ae4cda68",
   "metadata": {},
   "outputs": [],
   "source": [
    "for artist, lp in lyrics_pages.items() :\n",
    "    assert(len(set(lp)) > 20) \n",
    "         "
   ]
  },
  {
   "cell_type": "code",
   "execution_count": 27,
   "id": "edca10d6",
   "metadata": {},
   "outputs": [
    {
     "name": "stdout",
     "output_type": "stream",
     "text": [
      "For taylorswift we have 342.\n",
      "The full pull will take for this artist will take 0.95 hours.\n",
      "For blakeshelton we have 190.\n",
      "The full pull will take for this artist will take 0.53 hours.\n"
     ]
    }
   ],
   "source": [
    "# Let's see how long it's going to take to pull these lyrics \n",
    "# if we're waiting `5 + 10*random.random()` seconds \n",
    "for artist, links in lyrics_pages.items() : \n",
    "    print(f\"For {artist} we have {len(links)}.\")\n",
    "    print(f\"The full pull will take for this artist will take {round(len(links)*10/3600,2)} hours.\")"
   ]
  },
  {
   "cell_type": "markdown",
   "id": "011be6c6",
   "metadata": {},
   "source": [
    "## Part 2: Pulling Lyrics\n",
    "\n",
    "Now that we have the links to our lyrics pages, let's go scrape them! Here are the steps for this part. \n",
    "\n",
    "1. Create an empty folder in our repo called \"lyrics\". \n",
    "1. Iterate over the artists in `lyrics_pages`. \n",
    "1. Create a subfolder in lyrics with the artist's name. For instance, if the artist was Cher you'd have `lyrics/cher/` in your repo.\n",
    "1. Iterate over the pages. \n",
    "1. Request the page and extract the lyrics from the returned HTML file using BeautifulSoup.\n",
    "1. Use the function below, `generate_filename_from_url`, to create a filename based on the lyrics page, then write the lyrics to a text file with that name. \n"
   ]
  },
  {
   "cell_type": "code",
   "execution_count": 28,
   "id": "67693711",
   "metadata": {},
   "outputs": [],
   "source": [
    "def generate_filename_from_link(link) :\n",
    "    \n",
    "    if not link :\n",
    "        return None\n",
    "    \n",
    "    # drop the http or https and the html\n",
    "    name = link.replace(\"https\",\"\").replace(\"http\",\"\")\n",
    "    name = link.replace(\".html\",\"\")\n",
    "\n",
    "    name = name.replace(\"/lyrics/\",\"\")\n",
    "    \n",
    "    # Replace useless chareacters with UNDERSCORE\n",
    "    name = name.replace(\"://\",\"\").replace(\".\",\"_\").replace(\"/\",\"_\")\n",
    "    \n",
    "    # tack on .txt\n",
    "    name = name + \".txt\"\n",
    "    \n",
    "    return(name)\n"
   ]
  },
  {
   "cell_type": "code",
   "execution_count": 29,
   "id": "94a78c78",
   "metadata": {},
   "outputs": [],
   "source": [
    "# Make the lyrics folder here. If you'd like to practice your programming, add functionality \n",
    "# that checks to see if the folder exists. If it does, then use shutil.rmtree to remove it and create a new one.\n",
    "\n",
    "if os.path.isdir(\"lyrics\") : \n",
    "    shutil.rmtree(\"lyrics/\")\n",
    "\n",
    "os.mkdir(\"lyrics\")"
   ]
  },
  {
   "cell_type": "code",
   "execution_count": 30,
   "id": "14e34a1f",
   "metadata": {},
   "outputs": [
    {
     "data": {
      "text/plain": [
       "'C:\\\\Users\\\\saith'"
      ]
     },
     "execution_count": 30,
     "metadata": {},
     "output_type": "execute_result"
    }
   ],
   "source": [
    "os.getcwd()"
   ]
  },
  {
   "cell_type": "code",
   "execution_count": 31,
   "id": "18fba825",
   "metadata": {},
   "outputs": [
    {
     "name": "stdout",
     "output_type": "stream",
     "text": [
      "Fetching Lyric Pages...\n",
      "taylorswift: 342\n",
      "taylorswift_timmcgraw.txt\n",
      "/lyrics/taylorswift/timmcgraw.html\n",
      "\thttps://www.azlyrics.com/lyrics/taylorswift/timmcgraw.html\n",
      "taylorswift_picturetoburn.txt\n",
      "/lyrics/taylorswift/picturetoburn.html\n",
      "\thttps://www.azlyrics.com/lyrics/taylorswift/picturetoburn.html\n",
      "taylorswift_teardropsonmyguitar.txt\n",
      "/lyrics/taylorswift/teardropsonmyguitar.html\n",
      "\thttps://www.azlyrics.com/lyrics/taylorswift/teardropsonmyguitar.html\n",
      "taylorswift_aplaceinthisworld.txt\n",
      "/lyrics/taylorswift/aplaceinthisworld.html\n",
      "\thttps://www.azlyrics.com/lyrics/taylorswift/aplaceinthisworld.html\n",
      "taylorswift_coldasyou.txt\n",
      "/lyrics/taylorswift/coldasyou.html\n",
      "\thttps://www.azlyrics.com/lyrics/taylorswift/coldasyou.html\n",
      "taylorswift_theoutside.txt\n",
      "/lyrics/taylorswift/theoutside.html\n",
      "\thttps://www.azlyrics.com/lyrics/taylorswift/theoutside.html\n",
      "taylorswift_tiedtogetherwithasmile.txt\n",
      "/lyrics/taylorswift/tiedtogetherwithasmile.html\n",
      "\thttps://www.azlyrics.com/lyrics/taylorswift/tiedtogetherwithasmile.html\n",
      "taylorswift_staybeautiful.txt\n",
      "/lyrics/taylorswift/staybeautiful.html\n",
      "\thttps://www.azlyrics.com/lyrics/taylorswift/staybeautiful.html\n",
      "taylorswift_shouldvesaidno.txt\n",
      "/lyrics/taylorswift/shouldvesaidno.html\n",
      "\thttps://www.azlyrics.com/lyrics/taylorswift/shouldvesaidno.html\n",
      "taylorswift_maryssongohmymymy.txt\n",
      "/lyrics/taylorswift/maryssongohmymymy.html\n",
      "\thttps://www.azlyrics.com/lyrics/taylorswift/maryssongohmymymy.html\n",
      "taylorswift_oursong.txt\n",
      "/lyrics/taylorswift/oursong.html\n",
      "\thttps://www.azlyrics.com/lyrics/taylorswift/oursong.html\n",
      "taylorswift_imonlymewhenimwithyou.txt\n",
      "/lyrics/taylorswift/imonlymewhenimwithyou.html\n",
      "\thttps://www.azlyrics.com/lyrics/taylorswift/imonlymewhenimwithyou.html\n",
      "taylorswift_invisible.txt\n",
      "/lyrics/taylorswift/invisible.html\n",
      "\thttps://www.azlyrics.com/lyrics/taylorswift/invisible.html\n",
      "taylorswift_aperfectlygoodheart.txt\n",
      "/lyrics/taylorswift/aperfectlygoodheart.html\n",
      "\thttps://www.azlyrics.com/lyrics/taylorswift/aperfectlygoodheart.html\n",
      "taylorswift_lastchristmas.txt\n",
      "/lyrics/taylorswift/lastchristmas.html\n",
      "\thttps://www.azlyrics.com/lyrics/taylorswift/lastchristmas.html\n",
      "taylorswift_christmaseswhenyouweremine.txt\n",
      "/lyrics/taylorswift/christmaseswhenyouweremine.html\n",
      "\thttps://www.azlyrics.com/lyrics/taylorswift/christmaseswhenyouweremine.html\n",
      "taylorswift_santababy.txt\n",
      "/lyrics/taylorswift/santababy.html\n",
      "\thttps://www.azlyrics.com/lyrics/taylorswift/santababy.html\n",
      "taylorswift_silentnight.txt\n",
      "/lyrics/taylorswift/silentnight.html\n",
      "\thttps://www.azlyrics.com/lyrics/taylorswift/silentnight.html\n",
      "taylorswift_christmasmustbesomethingmore.txt\n",
      "/lyrics/taylorswift/christmasmustbesomethingmore.html\n",
      "\thttps://www.azlyrics.com/lyrics/taylorswift/christmasmustbesomethingmore.html\n",
      "taylorswift_whitechristmas.txt\n",
      "/lyrics/taylorswift/whitechristmas.html\n",
      "\thttps://www.azlyrics.com/lyrics/taylorswift/whitechristmas.html\n",
      "taylorswift_jumpthenfall.txt\n",
      "/lyrics/taylorswift/jumpthenfall.html\n",
      "\thttps://www.azlyrics.com/lyrics/taylorswift/jumpthenfall.html\n",
      "taylorswift_untouchable.txt\n",
      "/lyrics/taylorswift/untouchable.html\n",
      "\thttps://www.azlyrics.com/lyrics/taylorswift/untouchable.html\n",
      "blakeshelton: 190\n",
      "blakeshelton_everytimeilookatyou.txt\n",
      "/lyrics/blakeshelton/everytimeilookatyou.html\n",
      "\thttps://www.azlyrics.com/lyrics/blakeshelton/everytimeilookatyou.html\n",
      "blakeshelton_alloverme.txt\n",
      "/lyrics/blakeshelton/alloverme.html\n",
      "\thttps://www.azlyrics.com/lyrics/blakeshelton/alloverme.html\n",
      "blakeshelton_shedoesntknowshesgotit.txt\n",
      "/lyrics/blakeshelton/shedoesntknowshesgotit.html\n",
      "\thttps://www.azlyrics.com/lyrics/blakeshelton/shedoesntknowshesgotit.html\n",
      "blakeshelton_austin.txt\n",
      "/lyrics/blakeshelton/austin.html\n",
      "\thttps://www.azlyrics.com/lyrics/blakeshelton/austin.html\n",
      "blakeshelton_olred.txt\n",
      "/lyrics/blakeshelton/olred.html\n",
      "\thttps://www.azlyrics.com/lyrics/blakeshelton/olred.html\n",
      "blakeshelton_ithoughttherewastime.txt\n",
      "/lyrics/blakeshelton/ithoughttherewastime.html\n",
      "\thttps://www.azlyrics.com/lyrics/blakeshelton/ithoughttherewastime.html\n",
      "blakeshelton_sameoldsong.txt\n",
      "/lyrics/blakeshelton/sameoldsong.html\n",
      "\thttps://www.azlyrics.com/lyrics/blakeshelton/sameoldsong.html\n",
      "blakeshelton_thatswhaticallhome.txt\n",
      "/lyrics/blakeshelton/thatswhaticallhome.html\n",
      "\thttps://www.azlyrics.com/lyrics/blakeshelton/thatswhaticallhome.html\n",
      "blakeshelton_problemsathome.txt\n",
      "/lyrics/blakeshelton/problemsathome.html\n",
      "\thttps://www.azlyrics.com/lyrics/blakeshelton/problemsathome.html\n",
      "blakeshelton_ifiwasyourman.txt\n",
      "/lyrics/blakeshelton/ifiwasyourman.html\n",
      "\thttps://www.azlyrics.com/lyrics/blakeshelton/ifiwasyourman.html\n",
      "blakeshelton_heavyliftin.txt\n",
      "/lyrics/blakeshelton/heavyliftin.html\n",
      "\thttps://www.azlyrics.com/lyrics/blakeshelton/heavyliftin.html\n",
      "blakeshelton_thebaby.txt\n",
      "/lyrics/blakeshelton/thebaby.html\n",
      "\thttps://www.azlyrics.com/lyrics/blakeshelton/thebaby.html\n",
      "blakeshelton_asphaltcowboy.txt\n",
      "/lyrics/blakeshelton/asphaltcowboy.html\n",
      "\thttps://www.azlyrics.com/lyrics/blakeshelton/asphaltcowboy.html\n",
      "blakeshelton_inmyheaven.txt\n",
      "/lyrics/blakeshelton/inmyheaven.html\n",
      "\thttps://www.azlyrics.com/lyrics/blakeshelton/inmyheaven.html\n",
      "blakeshelton_thedreamer.txt\n",
      "/lyrics/blakeshelton/thedreamer.html\n",
      "\thttps://www.azlyrics.com/lyrics/blakeshelton/thedreamer.html\n",
      "blakeshelton_myneckofthewoods.txt\n",
      "/lyrics/blakeshelton/myneckofthewoods.html\n",
      "\thttps://www.azlyrics.com/lyrics/blakeshelton/myneckofthewoods.html\n",
      "blakeshelton_underneaththesamemoon.txt\n",
      "/lyrics/blakeshelton/underneaththesamemoon.html\n",
      "\thttps://www.azlyrics.com/lyrics/blakeshelton/underneaththesamemoon.html\n",
      "blakeshelton_georgiainajug.txt\n",
      "/lyrics/blakeshelton/georgiainajug.html\n",
      "\thttps://www.azlyrics.com/lyrics/blakeshelton/georgiainajug.html\n",
      "blakeshelton_playboysofthesouthwesternworld.txt\n",
      "/lyrics/blakeshelton/playboysofthesouthwesternworld.html\n",
      "\thttps://www.azlyrics.com/lyrics/blakeshelton/playboysofthesouthwesternworld.html\n",
      "blakeshelton_someday.txt\n",
      "/lyrics/blakeshelton/someday.html\n",
      "\thttps://www.azlyrics.com/lyrics/blakeshelton/someday.html\n",
      "blakeshelton_somebeach.txt\n",
      "/lyrics/blakeshelton/somebeach.html\n",
      "\thttps://www.azlyrics.com/lyrics/blakeshelton/somebeach.html\n",
      "blakeshelton_nobodybutme.txt\n",
      "/lyrics/blakeshelton/nobodybutme.html\n",
      "\thttps://www.azlyrics.com/lyrics/blakeshelton/nobodybutme.html\n"
     ]
    }
   ],
   "source": [
    "# for the twitter section\n",
    "import tweepy\n",
    "import os\n",
    "import datetime\n",
    "import re\n",
    "from pprint import pprint\n",
    "\n",
    "# for the lyrics scrape section\n",
    "import requests\n",
    "import time\n",
    "from bs4 import BeautifulSoup\n",
    "import shutil\n",
    "from collections import defaultdict, Counter\n",
    "from lxml import html\n",
    "import random\n",
    "\n",
    "def generate_filename_from_link(link) :\n",
    "    if not link: return None\n",
    "    # drop the http or https and the html\n",
    "    name = link.replace(\"https\",\"\").replace(\"http\",\"\")\n",
    "    name = link.replace(\".html\",\"\")\n",
    "    name = name.replace(\"/lyrics/\",\"\")\n",
    "    # Replace useless chareacters with UNDERSCORE\n",
    "    name = name.replace(\"://\",\"\").replace(\".\",\"_\").replace(\"/\",\"_\")\n",
    "    # tack on .txt\n",
    "    name = name + \".txt\"\n",
    "    return(name)\n",
    " \n",
    "\n",
    "# Let's set up a dictionary of lists to hold our links\n",
    "print(\"Fetching Lyric Pages...\")\n",
    "lyrics_pages = defaultdict(list)\n",
    "for artist, artist_page in artists.items() :\n",
    "    # request the page and sleep\n",
    "    r = requests.get(artist_page)\n",
    "    webpage = html.fromstring(r.content)\n",
    "    #get all the links in the artist page and slice out the links that are not necessary\n",
    "    links = webpage.xpath('//a/@href')[31:-8]\n",
    "    lyrics_pages[artist] = links\n",
    "    time.sleep(5 + 10*random.random())\n",
    "\n",
    "\n",
    "url_stub = \"https://www.azlyrics.com\" \n",
    "start = time.time()\n",
    "total_pages = 0 \n",
    "\n",
    "#if not os.path.isdir('lyrics'): \n",
    " #   os.mkdir('lyrics')\n",
    "\n",
    "for artist in lyrics_pages:\n",
    "    print(f\"{artist}: {len(lyrics_pages[artist])}\")\n",
    "\n",
    "\n",
    "    # 1. Build a subfolder for the artist\n",
    "    # if os.path.isdir(artist):\n",
    "    #     shutil.rmtree(artist)\n",
    "    folderpath= os.path.join('lyrics',artist)\n",
    "\n",
    "    if not os.path.isdir(folderpath): \n",
    "        os.mkdir(folderpath)\n",
    "    \n",
    "    \n",
    "    # 2. Iterate over the lyrics pages\n",
    "    for i,link in enumerate(lyrics_pages[artist]):\n",
    "        # 2.1 Prepare fileName for the current song\n",
    "        fileName = generate_filename_from_link(link)\n",
    "        print(fileName)\n",
    "        filePath = os.path.join('lyrics',artist, fileName)\n",
    "\n",
    "        # 2.2 Skip song if we already scraped it in the past\n",
    "        if os.path.isfile(filePath): continue;\n",
    "        print(link)\n",
    "        # 3. Request the lyrics page. \n",
    "        lyric_url = url_stub + link.replace(\"..\",\"\")\n",
    "        print(\"\\t\"+lyric_url)\n",
    "        r = requests.get(lyric_url, timeout=5)\n",
    "        soup = BeautifulSoup(r.content, 'html.parser')\n",
    "        r.close()\n",
    "        time.sleep(5 + 10*random.random()) # sleep after making the request\n",
    "\n",
    "        # 4. Extract the title and lyrics from the page.\n",
    "        titleelement=soup.findAll(\"title\")\n",
    "        song_title=soup.title.text.split(\"-\")[1].split(\"|\")[0].replace(\"Lyrics\",\"\").strip()\n",
    "        start=soup.text.find(f'\"{song_title}\"')\n",
    "        end=soup.text.find('Submit Corrections')\n",
    "        \n",
    "\n",
    "        # 5. Write out the title, two returns ('\\n'), and the lyrics.\n",
    "        with open(filePath, 'w') as f:\n",
    "            f.write(song_title+'\\n\\n')\n",
    "            for line in soup.text[start:end].split('\\n')[11:]:\n",
    "                f.write(line+'\\n')\n",
    "        f.close()\n",
    "    \n",
    "        # Remember to pull at least 20 songs per artist. It may be fun to pull all the songs for the artist\n",
    "        if i>=21:\n",
    "            break"
   ]
  },
  {
   "cell_type": "code",
   "execution_count": 32,
   "id": "d655b687",
   "metadata": {},
   "outputs": [
    {
     "name": "stdout",
     "output_type": "stream",
     "text": [
      "Total run time was 459336.26 hours.\n"
     ]
    }
   ],
   "source": [
    "print(f\"Total run time was {round((time.time() - start)/3600,2)} hours.\")"
   ]
  },
  {
   "cell_type": "markdown",
   "id": "054cf14b",
   "metadata": {},
   "source": [
    "---\n",
    "\n",
    "# Evaluation\n",
    "\n",
    "This assignment asks you to pull data from the Twitter API and scrape www.AZLyrics.com.  After you have finished the above sections , run all the cells in this notebook. Print this to PDF and submit it, per the instructions."
   ]
  },
  {
   "cell_type": "code",
   "execution_count": 33,
   "id": "217c2b0a",
   "metadata": {},
   "outputs": [],
   "source": [
    "# Simple word extractor from Peter Norvig: https://norvig.com/spell-correct.html\n",
    "def words(text): \n",
    "    return re.findall(r'\\w+', text.lower())"
   ]
  },
  {
   "cell_type": "markdown",
   "id": "9290b4c3",
   "metadata": {},
   "source": [
    "---\n",
    "\n",
    "## Checking Twitter Data\n",
    "\n",
    "The output from your Twitter API pull should be two files per artist, stored in files with formats like `cher_followers.txt` (a list of all follower IDs you pulled) and `cher_followers_data.txt`. These files should be in a folder named `twitter` within the repository directory. This code summarizes the information at a high level to help the instructor evaluate your work. "
   ]
  },
  {
   "cell_type": "code",
   "execution_count": 34,
   "id": "14a6eff0",
   "metadata": {},
   "outputs": [
    {
     "name": "stdout",
     "output_type": "stream",
     "text": [
      "C:\\Users\\saith\n"
     ]
    }
   ],
   "source": [
    "cwd = os.getcwd()\n",
    "print(cwd)"
   ]
  },
  {
   "cell_type": "code",
   "execution_count": 35,
   "id": "a14bd071",
   "metadata": {},
   "outputs": [
    {
     "data": {
      "text/plain": [
       "['.atom',\n",
       " '.aws',\n",
       " '.bash_history',\n",
       " '.cisco',\n",
       " '.conda',\n",
       " '.condarc',\n",
       " '.continuum',\n",
       " '.ipynb_checkpoints',\n",
       " '.ipython',\n",
       " '.jupyter',\n",
       " '.matplotlib',\n",
       " '.redhat',\n",
       " '.vscode',\n",
       " '3D Objects',\n",
       " 'ads509_assign1.ipynb',\n",
       " 'anaconda3',\n",
       " 'API and Scrape.ipynb',\n",
       " 'AppData',\n",
       " 'Application Data',\n",
       " 'captureMsi.log',\n",
       " 'cfn101-workshop',\n",
       " 'Contacts',\n",
       " 'Cookies',\n",
       " 'Copy_of_solution.ipynb',\n",
       " 'credit_fraud_detection.ipynb',\n",
       " 'Desktop',\n",
       " 'Documents',\n",
       " 'Downloads',\n",
       " 'Favorites',\n",
       " 'Google Drive',\n",
       " 'IntelGraphicsProfiles',\n",
       " 'Links',\n",
       " 'Local Settings',\n",
       " 'lyrics',\n",
       " 'Lyrics and Description EDA.ipynb',\n",
       " 'MicrosoftEdgeBackups',\n",
       " 'Music',\n",
       " 'My Documents',\n",
       " 'NetHood',\n",
       " 'New folder',\n",
       " 'NTUSER.DAT',\n",
       " 'ntuser.dat.LOG1',\n",
       " 'ntuser.dat.LOG2',\n",
       " 'NTUSER.DAT{b03892b5-eeda-11ea-805b-854a883dddf0}.TM.blf',\n",
       " 'NTUSER.DAT{b03892b5-eeda-11ea-805b-854a883dddf0}.TMContainer00000000000000000001.regtrans-ms',\n",
       " 'NTUSER.DAT{b03892b5-eeda-11ea-805b-854a883dddf0}.TMContainer00000000000000000002.regtrans-ms',\n",
       " 'ntuser.ini',\n",
       " 'OneDrive',\n",
       " 'Pictures',\n",
       " 'PrintHood',\n",
       " 'project_504.ipynb',\n",
       " 'Recent',\n",
       " 'Roaming',\n",
       " 'Saved Games',\n",
       " 'Searches',\n",
       " 'SendTo',\n",
       " 'Start Menu',\n",
       " 'Templates',\n",
       " 'twitter',\n",
       " 'Untitled.ipynb',\n",
       " 'Untitled1.ipynb',\n",
       " 'Videos',\n",
       " '__pycache__']"
      ]
     },
     "execution_count": 35,
     "metadata": {},
     "output_type": "execute_result"
    }
   ],
   "source": [
    "\n",
    "#os.chdir(\"C:/Users/saith/twitter\")\n",
    "os.chdir(\"C://users//saith//\")\n",
    "os.listdir()"
   ]
  },
  {
   "cell_type": "code",
   "execution_count": 36,
   "id": "f4855295",
   "metadata": {},
   "outputs": [],
   "source": [
    "#os.chdir(\"../\")\n",
    "#os.getcwd()"
   ]
  },
  {
   "cell_type": "code",
   "execution_count": 37,
   "id": "d2174c46",
   "metadata": {},
   "outputs": [
    {
     "name": "stdout",
     "output_type": "stream",
     "text": [
      "We see two artist handles: taylorswift13 and blakeshelton.\n"
     ]
    }
   ],
   "source": [
    "twitter_files = os.listdir(\"twitter\")\n",
    "twitter_files = [f for f in twitter_files if f != \".DS_Store\"]\n",
    "artist_handles = list(set([name.split(\"_\")[0] for name in twitter_files]))\n",
    "\n",
    "print(f\"We see two artist handles: {artist_handles[0]} and {artist_handles[1]}.\")"
   ]
  },
  {
   "cell_type": "code",
   "execution_count": 38,
   "id": "7ad545be",
   "metadata": {},
   "outputs": [
    {
     "name": "stdout",
     "output_type": "stream",
     "text": [
      "We see 4999 in your follower file for taylorswift13, assuming a header row.\n",
      "In the follower data file (taylorswift13_followers_data.txt) for taylorswift13, we have these columns:\n",
      "screen_name : name : id : location : followers_count : friends_count : description\n",
      "\n",
      "We have 5100 data rows for taylorswift13 in the follower data file.\n",
      "For taylorswift13 we have 39 unique locations.\n",
      "For taylorswift13 we have 17912 words in the descriptions.\n",
      "Here are the five most common words:\n",
      "[('pro', 306), ('is', 243), ('i', 214), ('you', 204), ('que', 202)]\n",
      "\n",
      "----------------------------------------\n",
      "\n",
      "We see 4999 in your follower file for blakeshelton, assuming a header row.\n",
      "In the follower data file (blakeshelton_followers_data.txt) for blakeshelton, we have these columns:\n",
      "screen_name : name : id : location : followers_count : friends_count : description\n",
      "\n",
      "We have 5100 data rows for blakeshelton in the follower data file.\n",
      "For blakeshelton we have 26 unique locations.\n",
      "For blakeshelton we have 21397 words in the descriptions.\n",
      "Here are the five most common words:\n",
      "[('and', 587), ('i', 558), ('to', 440), ('a', 406), ('my', 404)]\n",
      "\n",
      "----------------------------------------\n",
      "\n"
     ]
    }
   ],
   "source": [
    "for artist in artist_handles :\n",
    "    follower_file = artist + \"_followers.txt\"\n",
    "    follower_data_file = artist + \"_followers_data.txt\"\n",
    "    \n",
    "    ids = open(\"twitter/\" + follower_file,'r').readlines()\n",
    "    \n",
    "    print(f\"We see {len(ids)-1} in your follower file for {artist}, assuming a header row.\")\n",
    "    \n",
    "    with open(\"twitter/\" + follower_data_file,'r',  encoding='utf-8') as infile :\n",
    "        \n",
    "        # check the headers\n",
    "        headers = infile.readline().split(\"\\t\")\n",
    "        \n",
    "        print(f\"In the follower data file ({follower_data_file}) for {artist}, we have these columns:\")\n",
    "        print(\" : \".join(headers))\n",
    "        \n",
    "        description_words = []\n",
    "        locations = set()\n",
    "        \n",
    "        \n",
    "        for idx, line in enumerate(infile.readlines()) :\n",
    "            line = line.strip(\"\\n\").split(\"\\t\")\n",
    "            \n",
    "            try : \n",
    "                locations.add(line[3])            \n",
    "                description_words.extend(words(line[6]))\n",
    "            except :\n",
    "                pass\n",
    "    \n",
    "        \n",
    "\n",
    "        print(f\"We have {idx+1} data rows for {artist} in the follower data file.\")\n",
    "\n",
    "        print(f\"For {artist} we have {len(locations)} unique locations.\")\n",
    "\n",
    "        print(f\"For {artist} we have {len(description_words)} words in the descriptions.\")\n",
    "        print(\"Here are the five most common words:\")\n",
    "        print(Counter(description_words).most_common(5))\n",
    "\n",
    "        \n",
    "        print(\"\")\n",
    "        print(\"-\"*40)\n",
    "        print(\"\")\n",
    "    "
   ]
  },
  {
   "cell_type": "markdown",
   "id": "37778a1c",
   "metadata": {},
   "source": [
    "## Checking Lyrics \n",
    "\n",
    "The output from your lyrics scrape should be stored in files located in this path from the directory:\n",
    "`/lyrics/[Artist Name]/[filename from URL]`. This code summarizes the information at a high level to help the instructor evaluate your work. "
   ]
  },
  {
   "cell_type": "code",
   "execution_count": 39,
   "id": "b8093887",
   "metadata": {},
   "outputs": [],
   "source": [
    "dir_path= \"lyrics/\""
   ]
  },
  {
   "cell_type": "code",
   "execution_count": 40,
   "id": "caf9c805",
   "metadata": {},
   "outputs": [
    {
     "name": "stdout",
     "output_type": "stream",
     "text": [
      "For blakeshelton we have 22 files.\n",
      "For blakeshelton we have roughly 5351 words, 1069 are unique.\n",
      "For taylorswift we have 22 files.\n",
      "For taylorswift we have roughly 6426 words, 822 are unique.\n"
     ]
    }
   ],
   "source": [
    "artist_folders = os.listdir(dir_path)\n",
    "artist_folders = [f for f in artist_folders if os.path.isdir(dir_path + f)]\n",
    "\n",
    "for artist in artist_folders : \n",
    "    artist_files = os.listdir(dir_path + artist)\n",
    "    artist_files = [f for f in artist_files if 'txt' in f or 'csv' in f or 'tsv' in f]\n",
    "\n",
    "    print(f\"For {artist} we have {len(artist_files)} files.\")\n",
    "\n",
    "    artist_words = []\n",
    "\n",
    "    for f_name in artist_files : \n",
    "        with open(dir_path + artist + \"/\" + f_name) as infile : \n",
    "            artist_words.extend(words(infile.read()))\n",
    "\n",
    "            \n",
    "    print(f\"For {artist} we have roughly {len(artist_words)} words, {len(set(artist_words))} are unique.\")"
   ]
  },
  {
   "cell_type": "code",
   "execution_count": null,
   "id": "bccac29c",
   "metadata": {},
   "outputs": [],
   "source": []
  }
 ],
 "metadata": {
  "kernelspec": {
   "display_name": "Python 3",
   "language": "python",
   "name": "python3"
  },
  "language_info": {
   "codemirror_mode": {
    "name": "ipython",
    "version": 3
   },
   "file_extension": ".py",
   "mimetype": "text/x-python",
   "name": "python",
   "nbconvert_exporter": "python",
   "pygments_lexer": "ipython3",
   "version": "3.8.8"
  }
 },
 "nbformat": 4,
 "nbformat_minor": 5
}
